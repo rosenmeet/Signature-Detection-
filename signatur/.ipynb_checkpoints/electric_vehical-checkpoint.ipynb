{
 "cells": [
  {
   "cell_type": "code",
   "execution_count": 1,
   "id": "fe27e753",
   "metadata": {},
   "outputs": [],
   "source": [
    "# ..............................electric car price prediction in uk......................\n",
    "import numpy as np\n",
    "import pandas as pd\n",
    "import matplotlib.pyplot as plt\n",
    "import seaborn as sns\n",
    "from tensorflow.keras.utils import to_categorical\n",
    "from sklearn.metrics import classification_report, log_loss, accuracy_score\n",
    "from sklearn.metrics import mean_squared_error\n",
    "from sklearn.model_selection import KFold\n",
    "import random\n",
    "import plotly.express as px\n",
    "from contextlib import contextmanager\n",
    "from time import time\n",
    "from tqdm import tqdm\n",
    "import lightgbm as lgbm\n",
    "import category_encoders as ce"
   ]
  },
  {
   "cell_type": "code",
   "execution_count": 2,
   "id": "df935585",
   "metadata": {},
   "outputs": [
    {
     "data": {
      "text/html": [
       "<div>\n",
       "<style scoped>\n",
       "    .dataframe tbody tr th:only-of-type {\n",
       "        vertical-align: middle;\n",
       "    }\n",
       "\n",
       "    .dataframe tbody tr th {\n",
       "        vertical-align: top;\n",
       "    }\n",
       "\n",
       "    .dataframe thead th {\n",
       "        text-align: right;\n",
       "    }\n",
       "</style>\n",
       "<table border=\"1\" class=\"dataframe\">\n",
       "  <thead>\n",
       "    <tr style=\"text-align: right;\">\n",
       "      <th></th>\n",
       "      <th>Name</th>\n",
       "      <th>Subtitle</th>\n",
       "      <th>Acceleration</th>\n",
       "      <th>TopSpeed</th>\n",
       "      <th>Range</th>\n",
       "      <th>Efficiency</th>\n",
       "      <th>FastChargeSpeed</th>\n",
       "      <th>Drive</th>\n",
       "      <th>NumberofSeats</th>\n",
       "      <th>PriceinGermany</th>\n",
       "      <th>PriceinUK</th>\n",
       "    </tr>\n",
       "  </thead>\n",
       "  <tbody>\n",
       "    <tr>\n",
       "      <th>0</th>\n",
       "      <td>Opel Ampera-e</td>\n",
       "      <td>Battery Electric Vehicle |       58 kWh</td>\n",
       "      <td>7.3 sec</td>\n",
       "      <td>150 km/h</td>\n",
       "      <td>335 km</td>\n",
       "      <td>173 Wh/km</td>\n",
       "      <td>210 km/h</td>\n",
       "      <td>Front Wheel Drive</td>\n",
       "      <td>5</td>\n",
       "      <td>€42,990</td>\n",
       "      <td>NaN</td>\n",
       "    </tr>\n",
       "    <tr>\n",
       "      <th>1</th>\n",
       "      <td>Renault Kangoo Maxi ZE 33</td>\n",
       "      <td>Battery Electric Vehicle |       31 kWh</td>\n",
       "      <td>22.4 sec</td>\n",
       "      <td>130 km/h</td>\n",
       "      <td>160 km</td>\n",
       "      <td>194 Wh/km</td>\n",
       "      <td>-</td>\n",
       "      <td>Front Wheel Drive</td>\n",
       "      <td>5</td>\n",
       "      <td>NaN</td>\n",
       "      <td>£31,680</td>\n",
       "    </tr>\n",
       "    <tr>\n",
       "      <th>2</th>\n",
       "      <td>Nissan Leaf</td>\n",
       "      <td>Battery Electric Vehicle |       36 kWh</td>\n",
       "      <td>7.9 sec</td>\n",
       "      <td>144 km/h</td>\n",
       "      <td>220 km</td>\n",
       "      <td>164 Wh/km</td>\n",
       "      <td>230 km/h</td>\n",
       "      <td>Front Wheel Drive</td>\n",
       "      <td>5</td>\n",
       "      <td>€29,990</td>\n",
       "      <td>£25,995</td>\n",
       "    </tr>\n",
       "    <tr>\n",
       "      <th>3</th>\n",
       "      <td>Audi e-tron Sportback 55 quattro</td>\n",
       "      <td>Battery Electric Vehicle |       86.5 kWh</td>\n",
       "      <td>5.7 sec</td>\n",
       "      <td>200 km/h</td>\n",
       "      <td>375 km</td>\n",
       "      <td>231 Wh/km</td>\n",
       "      <td>600 km/h</td>\n",
       "      <td>All Wheel Drive</td>\n",
       "      <td>5</td>\n",
       "      <td>NaN</td>\n",
       "      <td>£79,900</td>\n",
       "    </tr>\n",
       "    <tr>\n",
       "      <th>4</th>\n",
       "      <td>Porsche Taycan Turbo S</td>\n",
       "      <td>Battery Electric Vehicle |       83.7 kWh</td>\n",
       "      <td>2.8 sec</td>\n",
       "      <td>260 km/h</td>\n",
       "      <td>390 km</td>\n",
       "      <td>215 Wh/km</td>\n",
       "      <td>860 km/h</td>\n",
       "      <td>All Wheel Drive</td>\n",
       "      <td>4</td>\n",
       "      <td>€186,336</td>\n",
       "      <td>£138,830</td>\n",
       "    </tr>\n",
       "    <tr>\n",
       "      <th>...</th>\n",
       "      <td>...</td>\n",
       "      <td>...</td>\n",
       "      <td>...</td>\n",
       "      <td>...</td>\n",
       "      <td>...</td>\n",
       "      <td>...</td>\n",
       "      <td>...</td>\n",
       "      <td>...</td>\n",
       "      <td>...</td>\n",
       "      <td>...</td>\n",
       "      <td>...</td>\n",
       "    </tr>\n",
       "    <tr>\n",
       "      <th>175</th>\n",
       "      <td>MG Marvel R</td>\n",
       "      <td>Battery Electric Vehicle |       65 kWh</td>\n",
       "      <td>7.9 sec</td>\n",
       "      <td>200 km/h</td>\n",
       "      <td>340 km</td>\n",
       "      <td>191 Wh/km</td>\n",
       "      <td>390 km/h</td>\n",
       "      <td>Rear Wheel Drive</td>\n",
       "      <td>5</td>\n",
       "      <td>€40,000</td>\n",
       "      <td>NaN</td>\n",
       "    </tr>\n",
       "    <tr>\n",
       "      <th>176</th>\n",
       "      <td>Tesla Model 3 Long Range Dual Motor</td>\n",
       "      <td>Battery Electric Vehicle |       76 kWh</td>\n",
       "      <td>4.4 sec</td>\n",
       "      <td>233 km/h</td>\n",
       "      <td>490 km</td>\n",
       "      <td>155 Wh/km</td>\n",
       "      <td>820 km/h</td>\n",
       "      <td>All Wheel Drive</td>\n",
       "      <td>5</td>\n",
       "      <td>€53,560</td>\n",
       "      <td>NaN</td>\n",
       "    </tr>\n",
       "    <tr>\n",
       "      <th>177</th>\n",
       "      <td>MG MG5 EV Long Range</td>\n",
       "      <td>Battery Electric Vehicle |       57 kWh</td>\n",
       "      <td>7.7 sec</td>\n",
       "      <td>185 km/h</td>\n",
       "      <td>340 km</td>\n",
       "      <td>168 Wh/km</td>\n",
       "      <td>340 km/h</td>\n",
       "      <td>Front Wheel Drive</td>\n",
       "      <td>5</td>\n",
       "      <td>NaN</td>\n",
       "      <td>£26,495</td>\n",
       "    </tr>\n",
       "    <tr>\n",
       "      <th>178</th>\n",
       "      <td>Audi Q4 e-tron 45 quattro</td>\n",
       "      <td>Battery Electric Vehicle |       76.6 kWh</td>\n",
       "      <td>6.9 sec</td>\n",
       "      <td>180 km/h</td>\n",
       "      <td>385 km</td>\n",
       "      <td>199 Wh/km</td>\n",
       "      <td>470 km/h</td>\n",
       "      <td>All Wheel Drive</td>\n",
       "      <td>5</td>\n",
       "      <td>€50,900</td>\n",
       "      <td>NaN</td>\n",
       "    </tr>\n",
       "    <tr>\n",
       "      <th>179</th>\n",
       "      <td>Audi Q4 Sportback e-tron 40</td>\n",
       "      <td>Battery Electric Vehicle |       76.6 kWh</td>\n",
       "      <td>8.5 sec</td>\n",
       "      <td>160 km/h</td>\n",
       "      <td>425 km</td>\n",
       "      <td>180 Wh/km</td>\n",
       "      <td>520 km/h</td>\n",
       "      <td>Rear Wheel Drive</td>\n",
       "      <td>5</td>\n",
       "      <td>€49,500</td>\n",
       "      <td>NaN</td>\n",
       "    </tr>\n",
       "  </tbody>\n",
       "</table>\n",
       "<p>180 rows × 11 columns</p>\n",
       "</div>"
      ],
      "text/plain": [
       "                                    Name  \\\n",
       "0                         Opel Ampera-e    \n",
       "1              Renault Kangoo Maxi ZE 33   \n",
       "2                           Nissan Leaf    \n",
       "3       Audi e-tron Sportback 55 quattro   \n",
       "4                 Porsche Taycan Turbo S   \n",
       "..                                   ...   \n",
       "175                         MG Marvel R    \n",
       "176  Tesla Model 3 Long Range Dual Motor   \n",
       "177                 MG MG5 EV Long Range   \n",
       "178            Audi Q4 e-tron 45 quattro   \n",
       "179          Audi Q4 Sportback e-tron 40   \n",
       "\n",
       "                                      Subtitle Acceleration  TopSpeed   Range  \\\n",
       "0     Battery Electric Vehicle |       58 kWh       7.3 sec  150 km/h  335 km   \n",
       "1     Battery Electric Vehicle |       31 kWh      22.4 sec  130 km/h  160 km   \n",
       "2     Battery Electric Vehicle |       36 kWh       7.9 sec  144 km/h  220 km   \n",
       "3    Battery Electric Vehicle |       86.5 kWh      5.7 sec  200 km/h  375 km   \n",
       "4    Battery Electric Vehicle |       83.7 kWh      2.8 sec  260 km/h  390 km   \n",
       "..                                         ...          ...       ...     ...   \n",
       "175   Battery Electric Vehicle |       65 kWh       7.9 sec  200 km/h  340 km   \n",
       "176   Battery Electric Vehicle |       76 kWh       4.4 sec  233 km/h  490 km   \n",
       "177   Battery Electric Vehicle |       57 kWh       7.7 sec  185 km/h  340 km   \n",
       "178  Battery Electric Vehicle |       76.6 kWh      6.9 sec  180 km/h  385 km   \n",
       "179  Battery Electric Vehicle |       76.6 kWh      8.5 sec  160 km/h  425 km   \n",
       "\n",
       "    Efficiency FastChargeSpeed              Drive  NumberofSeats  \\\n",
       "0    173 Wh/km        210 km/h  Front Wheel Drive              5   \n",
       "1    194 Wh/km               -  Front Wheel Drive              5   \n",
       "2    164 Wh/km        230 km/h  Front Wheel Drive              5   \n",
       "3    231 Wh/km        600 km/h    All Wheel Drive              5   \n",
       "4    215 Wh/km        860 km/h    All Wheel Drive              4   \n",
       "..         ...             ...                ...            ...   \n",
       "175  191 Wh/km        390 km/h   Rear Wheel Drive              5   \n",
       "176  155 Wh/km        820 km/h    All Wheel Drive              5   \n",
       "177  168 Wh/km        340 km/h  Front Wheel Drive              5   \n",
       "178  199 Wh/km        470 km/h    All Wheel Drive              5   \n",
       "179  180 Wh/km        520 km/h   Rear Wheel Drive              5   \n",
       "\n",
       "    PriceinGermany PriceinUK  \n",
       "0          €42,990       NaN  \n",
       "1              NaN   £31,680  \n",
       "2          €29,990   £25,995  \n",
       "3              NaN   £79,900  \n",
       "4         €186,336  £138,830  \n",
       "..             ...       ...  \n",
       "175        €40,000       NaN  \n",
       "176        €53,560       NaN  \n",
       "177            NaN   £26,495  \n",
       "178        €50,900       NaN  \n",
       "179        €49,500       NaN  \n",
       "\n",
       "[180 rows x 11 columns]"
      ]
     },
     "execution_count": 2,
     "metadata": {},
     "output_type": "execute_result"
    }
   ],
   "source": [
    "data = pd.read_csv(\"electric_vehical.csv\")\n",
    "data"
   ]
  },
  {
   "cell_type": "code",
   "execution_count": 3,
   "id": "50938540",
   "metadata": {},
   "outputs": [
    {
     "name": "stdout",
     "output_type": "stream",
     "text": [
      "<class 'pandas.core.frame.DataFrame'>\n",
      "RangeIndex: 180 entries, 0 to 179\n",
      "Data columns (total 11 columns):\n",
      " #   Column           Non-Null Count  Dtype \n",
      "---  ------           --------------  ----- \n",
      " 0   Name             180 non-null    object\n",
      " 1   Subtitle         180 non-null    object\n",
      " 2   Acceleration     180 non-null    object\n",
      " 3   TopSpeed         180 non-null    object\n",
      " 4   Range            180 non-null    object\n",
      " 5   Efficiency       180 non-null    object\n",
      " 6   FastChargeSpeed  180 non-null    object\n",
      " 7   Drive            180 non-null    object\n",
      " 8   NumberofSeats    180 non-null    int64 \n",
      " 9   PriceinGermany   168 non-null    object\n",
      " 10  PriceinUK        136 non-null    object\n",
      "dtypes: int64(1), object(10)\n",
      "memory usage: 15.6+ KB\n"
     ]
    }
   ],
   "source": [
    "data.info()"
   ]
  },
  {
   "cell_type": "code",
   "execution_count": 4,
   "id": "f03c26f5",
   "metadata": {},
   "outputs": [
    {
     "data": {
      "text/plain": [
       "Name                0\n",
       "Subtitle            0\n",
       "Acceleration        0\n",
       "TopSpeed            0\n",
       "Range               0\n",
       "Efficiency          0\n",
       "FastChargeSpeed     0\n",
       "Drive               0\n",
       "NumberofSeats       0\n",
       "PriceinGermany     12\n",
       "PriceinUK          44\n",
       "dtype: int64"
      ]
     },
     "execution_count": 4,
     "metadata": {},
     "output_type": "execute_result"
    }
   ],
   "source": [
    "data.isnull().sum()"
   ]
  },
  {
   "cell_type": "code",
   "execution_count": 5,
   "id": "a292188b",
   "metadata": {},
   "outputs": [],
   "source": [
    "data=data.fillna('0')"
   ]
  },
  {
   "cell_type": "code",
   "execution_count": 6,
   "id": "cbf5cb0f",
   "metadata": {},
   "outputs": [
    {
     "data": {
      "text/plain": [
       "Name               0\n",
       "Subtitle           0\n",
       "Acceleration       0\n",
       "TopSpeed           0\n",
       "Range              0\n",
       "Efficiency         0\n",
       "FastChargeSpeed    0\n",
       "Drive              0\n",
       "NumberofSeats      0\n",
       "PriceinGermany     0\n",
       "PriceinUK          0\n",
       "dtype: int64"
      ]
     },
     "execution_count": 6,
     "metadata": {},
     "output_type": "execute_result"
    }
   ],
   "source": [
    "data.isnull().sum()"
   ]
  },
  {
   "cell_type": "code",
   "execution_count": 7,
   "id": "753483cc",
   "metadata": {},
   "outputs": [],
   "source": [
    "# repace ero sign\n",
    "PriceinUK=[]\n",
    "for item in data['PriceinUK']:\n",
    "    PriceinUK+=[int(item.replace('£','').replace(',',''))]\n",
    "data['PriceinUK']=PriceinUK\n",
    "\n"
   ]
  },
  {
   "cell_type": "code",
   "execution_count": 8,
   "id": "e779ae87",
   "metadata": {},
   "outputs": [],
   "source": [
    "PriceinGermany=[]\n",
    "for item in data['PriceinGermany']:\n",
    "    PriceinGermany+=[int(item.replace('€','').replace(',',''))]\n",
    "data['PriceinGermany']=PriceinGermany\n",
    "\n",
    "FastChargeSpeed=[]\n",
    "for item in data['FastChargeSpeed']:\n",
    "    FastChargeSpeed+=[int(item.replace(' km/h','').replace('-','0'))]\n",
    "data['FastChargeSpeed']=FastChargeSpeed"
   ]
  },
  {
   "cell_type": "code",
   "execution_count": 9,
   "id": "dec9b024",
   "metadata": {},
   "outputs": [],
   "source": [
    "Efficiency=[]\n",
    "for item in data['Efficiency']:\n",
    "    Efficiency+=[int(item.replace(' Wh/km',''))]\n",
    "data['Efficiency']=Efficiency"
   ]
  },
  {
   "cell_type": "code",
   "execution_count": 10,
   "id": "a902bed4",
   "metadata": {},
   "outputs": [],
   "source": [
    "Range=[]\n",
    "for item in data['Range']:\n",
    "    Range+=[int(item.replace(' km',''))]\n",
    "data['Range']=Range"
   ]
  },
  {
   "cell_type": "code",
   "execution_count": 11,
   "id": "3089276d",
   "metadata": {},
   "outputs": [],
   "source": [
    "TopSpeed=[]\n",
    "for item in data['TopSpeed']:\n",
    "    TopSpeed+=[int(item.replace(' km/h',''))]\n",
    "data['TopSpeed']=TopSpeed"
   ]
  },
  {
   "cell_type": "code",
   "execution_count": 12,
   "id": "7eab1d9d",
   "metadata": {},
   "outputs": [],
   "source": [
    "Acceleration=[]\n",
    "for item in data['Acceleration']:\n",
    "    Acceleration+=[float(item.replace(' sec',''))]\n",
    "data['Acceleration']=Acceleration"
   ]
  },
  {
   "cell_type": "code",
   "execution_count": 13,
   "id": "fe35026f",
   "metadata": {},
   "outputs": [],
   "source": [
    "Subtitle=[]\n",
    "for item in data['Subtitle']:\n",
    "    Subtitle+=[float(item.replace('Battery Electric Vehicle | ','').replace(' kWh','').replace('      ',''))]\n",
    "data['Subtitle']=Subtitle"
   ]
  },
  {
   "cell_type": "code",
   "execution_count": 14,
   "id": "201f460e",
   "metadata": {},
   "outputs": [],
   "source": [
    "df=data\n",
    "from sklearn.preprocessing import LabelEncoder\n",
    "for c in df.columns:\n",
    "    if df[c].dtype=='object': \n",
    "        df[c] = df[c].fillna('N')\n",
    "        lbl = LabelEncoder()\n",
    "        lbl.fit(list(df[c].values))\n",
    "        df[c] = lbl.transform(df[c].values)"
   ]
  },
  {
   "cell_type": "code",
   "execution_count": 15,
   "id": "7074e0ec",
   "metadata": {},
   "outputs": [
    {
     "data": {
      "text/html": [
       "<div>\n",
       "<style scoped>\n",
       "    .dataframe tbody tr th:only-of-type {\n",
       "        vertical-align: middle;\n",
       "    }\n",
       "\n",
       "    .dataframe tbody tr th {\n",
       "        vertical-align: top;\n",
       "    }\n",
       "\n",
       "    .dataframe thead th {\n",
       "        text-align: right;\n",
       "    }\n",
       "</style>\n",
       "<table border=\"1\" class=\"dataframe\">\n",
       "  <thead>\n",
       "    <tr style=\"text-align: right;\">\n",
       "      <th></th>\n",
       "      <th>Name</th>\n",
       "      <th>Subtitle</th>\n",
       "      <th>Acceleration</th>\n",
       "      <th>TopSpeed</th>\n",
       "      <th>Range</th>\n",
       "      <th>Efficiency</th>\n",
       "      <th>FastChargeSpeed</th>\n",
       "      <th>Drive</th>\n",
       "      <th>NumberofSeats</th>\n",
       "      <th>PriceinGermany</th>\n",
       "      <th>PriceinUK</th>\n",
       "    </tr>\n",
       "  </thead>\n",
       "  <tbody>\n",
       "    <tr>\n",
       "      <th>0</th>\n",
       "      <td>97</td>\n",
       "      <td>58.0</td>\n",
       "      <td>7.3</td>\n",
       "      <td>150</td>\n",
       "      <td>335</td>\n",
       "      <td>173</td>\n",
       "      <td>210</td>\n",
       "      <td>1</td>\n",
       "      <td>5</td>\n",
       "      <td>42990</td>\n",
       "      <td>0</td>\n",
       "    </tr>\n",
       "    <tr>\n",
       "      <th>1</th>\n",
       "      <td>127</td>\n",
       "      <td>31.0</td>\n",
       "      <td>22.4</td>\n",
       "      <td>130</td>\n",
       "      <td>160</td>\n",
       "      <td>194</td>\n",
       "      <td>0</td>\n",
       "      <td>1</td>\n",
       "      <td>5</td>\n",
       "      <td>0</td>\n",
       "      <td>31680</td>\n",
       "    </tr>\n",
       "    <tr>\n",
       "      <th>2</th>\n",
       "      <td>94</td>\n",
       "      <td>36.0</td>\n",
       "      <td>7.9</td>\n",
       "      <td>144</td>\n",
       "      <td>220</td>\n",
       "      <td>164</td>\n",
       "      <td>230</td>\n",
       "      <td>1</td>\n",
       "      <td>5</td>\n",
       "      <td>29990</td>\n",
       "      <td>25995</td>\n",
       "    </tr>\n",
       "    <tr>\n",
       "      <th>3</th>\n",
       "      <td>15</td>\n",
       "      <td>86.5</td>\n",
       "      <td>5.7</td>\n",
       "      <td>200</td>\n",
       "      <td>375</td>\n",
       "      <td>231</td>\n",
       "      <td>600</td>\n",
       "      <td>0</td>\n",
       "      <td>5</td>\n",
       "      <td>0</td>\n",
       "      <td>79900</td>\n",
       "    </tr>\n",
       "    <tr>\n",
       "      <th>4</th>\n",
       "      <td>125</td>\n",
       "      <td>83.7</td>\n",
       "      <td>2.8</td>\n",
       "      <td>260</td>\n",
       "      <td>390</td>\n",
       "      <td>215</td>\n",
       "      <td>860</td>\n",
       "      <td>0</td>\n",
       "      <td>4</td>\n",
       "      <td>186336</td>\n",
       "      <td>138830</td>\n",
       "    </tr>\n",
       "    <tr>\n",
       "      <th>...</th>\n",
       "      <td>...</td>\n",
       "      <td>...</td>\n",
       "      <td>...</td>\n",
       "      <td>...</td>\n",
       "      <td>...</td>\n",
       "      <td>...</td>\n",
       "      <td>...</td>\n",
       "      <td>...</td>\n",
       "      <td>...</td>\n",
       "      <td>...</td>\n",
       "      <td>...</td>\n",
       "    </tr>\n",
       "    <tr>\n",
       "      <th>175</th>\n",
       "      <td>75</td>\n",
       "      <td>65.0</td>\n",
       "      <td>7.9</td>\n",
       "      <td>200</td>\n",
       "      <td>340</td>\n",
       "      <td>191</td>\n",
       "      <td>390</td>\n",
       "      <td>2</td>\n",
       "      <td>5</td>\n",
       "      <td>40000</td>\n",
       "      <td>0</td>\n",
       "    </tr>\n",
       "    <tr>\n",
       "      <th>176</th>\n",
       "      <td>147</td>\n",
       "      <td>76.0</td>\n",
       "      <td>4.4</td>\n",
       "      <td>233</td>\n",
       "      <td>490</td>\n",
       "      <td>155</td>\n",
       "      <td>820</td>\n",
       "      <td>0</td>\n",
       "      <td>5</td>\n",
       "      <td>53560</td>\n",
       "      <td>0</td>\n",
       "    </tr>\n",
       "    <tr>\n",
       "      <th>177</th>\n",
       "      <td>73</td>\n",
       "      <td>57.0</td>\n",
       "      <td>7.7</td>\n",
       "      <td>185</td>\n",
       "      <td>340</td>\n",
       "      <td>168</td>\n",
       "      <td>340</td>\n",
       "      <td>1</td>\n",
       "      <td>5</td>\n",
       "      <td>0</td>\n",
       "      <td>26495</td>\n",
       "    </tr>\n",
       "    <tr>\n",
       "      <th>178</th>\n",
       "      <td>6</td>\n",
       "      <td>76.6</td>\n",
       "      <td>6.9</td>\n",
       "      <td>180</td>\n",
       "      <td>385</td>\n",
       "      <td>199</td>\n",
       "      <td>470</td>\n",
       "      <td>0</td>\n",
       "      <td>5</td>\n",
       "      <td>50900</td>\n",
       "      <td>0</td>\n",
       "    </tr>\n",
       "    <tr>\n",
       "      <th>179</th>\n",
       "      <td>2</td>\n",
       "      <td>76.6</td>\n",
       "      <td>8.5</td>\n",
       "      <td>160</td>\n",
       "      <td>425</td>\n",
       "      <td>180</td>\n",
       "      <td>520</td>\n",
       "      <td>2</td>\n",
       "      <td>5</td>\n",
       "      <td>49500</td>\n",
       "      <td>0</td>\n",
       "    </tr>\n",
       "  </tbody>\n",
       "</table>\n",
       "<p>180 rows × 11 columns</p>\n",
       "</div>"
      ],
      "text/plain": [
       "     Name  Subtitle  Acceleration  TopSpeed  Range  Efficiency  \\\n",
       "0      97      58.0           7.3       150    335         173   \n",
       "1     127      31.0          22.4       130    160         194   \n",
       "2      94      36.0           7.9       144    220         164   \n",
       "3      15      86.5           5.7       200    375         231   \n",
       "4     125      83.7           2.8       260    390         215   \n",
       "..    ...       ...           ...       ...    ...         ...   \n",
       "175    75      65.0           7.9       200    340         191   \n",
       "176   147      76.0           4.4       233    490         155   \n",
       "177    73      57.0           7.7       185    340         168   \n",
       "178     6      76.6           6.9       180    385         199   \n",
       "179     2      76.6           8.5       160    425         180   \n",
       "\n",
       "     FastChargeSpeed  Drive  NumberofSeats  PriceinGermany  PriceinUK  \n",
       "0                210      1              5           42990          0  \n",
       "1                  0      1              5               0      31680  \n",
       "2                230      1              5           29990      25995  \n",
       "3                600      0              5               0      79900  \n",
       "4                860      0              4          186336     138830  \n",
       "..               ...    ...            ...             ...        ...  \n",
       "175              390      2              5           40000          0  \n",
       "176              820      0              5           53560          0  \n",
       "177              340      1              5               0      26495  \n",
       "178              470      0              5           50900          0  \n",
       "179              520      2              5           49500          0  \n",
       "\n",
       "[180 rows x 11 columns]"
      ]
     },
     "execution_count": 15,
     "metadata": {},
     "output_type": "execute_result"
    }
   ],
   "source": [
    "data1=df\n",
    "data1"
   ]
  },
  {
   "cell_type": "code",
   "execution_count": 16,
   "id": "1ab93a6b",
   "metadata": {},
   "outputs": [
    {
     "name": "stdout",
     "output_type": "stream",
     "text": [
      "<class 'pandas.core.frame.DataFrame'>\n",
      "RangeIndex: 180 entries, 0 to 179\n",
      "Data columns (total 11 columns):\n",
      " #   Column           Non-Null Count  Dtype  \n",
      "---  ------           --------------  -----  \n",
      " 0   Name             180 non-null    int32  \n",
      " 1   Subtitle         180 non-null    float64\n",
      " 2   Acceleration     180 non-null    float64\n",
      " 3   TopSpeed         180 non-null    int64  \n",
      " 4   Range            180 non-null    int64  \n",
      " 5   Efficiency       180 non-null    int64  \n",
      " 6   FastChargeSpeed  180 non-null    int64  \n",
      " 7   Drive            180 non-null    int32  \n",
      " 8   NumberofSeats    180 non-null    int64  \n",
      " 9   PriceinGermany   180 non-null    int64  \n",
      " 10  PriceinUK        180 non-null    int64  \n",
      "dtypes: float64(2), int32(2), int64(7)\n",
      "memory usage: 14.2 KB\n"
     ]
    }
   ],
   "source": [
    "data.info()"
   ]
  },
  {
   "cell_type": "code",
   "execution_count": 17,
   "id": "d4c44c47",
   "metadata": {},
   "outputs": [
    {
     "name": "stdout",
     "output_type": "stream",
     "text": [
      "[0, 13, 18, 27, 28, 29, 34, 45, 48, 63, 64, 78, 79, 89, 93, 98, 102, 104, 105, 106, 107, 108, 110, 111, 112, 115, 116, 117, 118, 119, 128, 140, 141, 143, 161, 162, 163, 164, 165, 166, 175, 176, 178, 179]\n"
     ]
    }
   ],
   "source": [
    "target=['PriceinUK','PriceinGermany']\n",
    "\n",
    "drop=[]\n",
    "for i,item in enumerate(data['PriceinUK']):\n",
    "    if item ==0:\n",
    "        drop+=[i]\n",
    "print(drop)\n",
    "data1=data.drop(index=data1.index[drop]).reset_index(drop=True)\n",
    "\n",
    "dataY=data1[target[0]]\n",
    "dataX=data1.drop(target,axis=1)"
   ]
  },
  {
   "cell_type": "code",
   "execution_count": 18,
   "id": "42ec1113",
   "metadata": {},
   "outputs": [
    {
     "name": "stdout",
     "output_type": "stream",
     "text": [
      "0     31680\n",
      "1     25995\n",
      "2     79900\n",
      "3    138830\n",
      "4     30255\n",
      "Name: PriceinUK, dtype: int64\n",
      "\n",
      "                     0      1      2      3      4\n",
      "Name             127.0   94.0   15.0  125.0   96.0\n",
      "Subtitle          31.0   36.0   86.5   83.7   36.0\n",
      "Acceleration      22.4    7.9    5.7    2.8   14.0\n",
      "TopSpeed         130.0  144.0  200.0  260.0  123.0\n",
      "Range            160.0  220.0  375.0  390.0  165.0\n",
      "Efficiency       194.0  164.0  231.0  215.0  218.0\n",
      "FastChargeSpeed    0.0  230.0  600.0  860.0  170.0\n",
      "Drive              1.0    1.0    0.0    0.0    1.0\n",
      "NumberofSeats      5.0    5.0    5.0    4.0    7.0\n"
     ]
    }
   ],
   "source": [
    "print(dataY[0:5].T)\n",
    "print()\n",
    "print(dataX[0:5].T)"
   ]
  },
  {
   "cell_type": "code",
   "execution_count": 19,
   "id": "60685127",
   "metadata": {},
   "outputs": [
    {
     "name": "stdout",
     "output_type": "stream",
     "text": [
      "136\n"
     ]
    }
   ],
   "source": [
    "n=len(dataX)\n",
    "print(n)\n",
    "N=[]\n",
    "for i in range(n):\n",
    "    N+=[i]\n",
    "random.seed(2021)\n",
    "random.shuffle(N)"
   ]
  },
  {
   "cell_type": "code",
   "execution_count": 20,
   "id": "3d822855",
   "metadata": {},
   "outputs": [],
   "source": [
    "# split data into train and test\n",
    "trainX=dataX.loc[N[0:(n//4)*3]]\n",
    "trainY=dataY.loc[N[0:(n//4)*3]]\n",
    "testX=dataX.loc[N[(n//4)*3:]]\n",
    "testY=dataY.loc[N[(n//4)*3:]]"
   ]
  },
  {
   "cell_type": "code",
   "execution_count": 21,
   "id": "4b573f98",
   "metadata": {},
   "outputs": [
    {
     "name": "stdout",
     "output_type": "stream",
     "text": [
      "['Name', 'Subtitle', 'Acceleration', 'TopSpeed', 'Range', 'Efficiency', 'FastChargeSpeed', 'Drive', 'NumberofSeats']\n"
     ]
    }
   ],
   "source": [
    "df_columns = list(dataX.columns)\n",
    "print(df_columns)"
   ]
  },
  {
   "cell_type": "code",
   "execution_count": 22,
   "id": "d40a64bd",
   "metadata": {},
   "outputs": [],
   "source": [
    "def create_numeric_feature(input_df):\n",
    "    use_columns = df_columns \n",
    "    return input_df[use_columns].copy()"
   ]
  },
  {
   "cell_type": "code",
   "execution_count": 23,
   "id": "050cabe6",
   "metadata": {},
   "outputs": [],
   "source": [
    "from contextlib import contextmanager\n",
    "from time import time\n",
    "\n",
    "class Timer:\n",
    "    def __init__(self, logger=None, format_str='{:.3f}[s]', prefix=None, suffix=None, sep=' '):\n",
    "\n",
    "        if prefix: format_str = str(prefix) + sep + format_str\n",
    "        if suffix: format_str = format_str + sep + str(suffix)\n",
    "        self.format_str = format_str\n",
    "        self.logger = logger\n",
    "        self.start = None\n",
    "        self.end = None\n",
    "\n",
    "    @property\n",
    "    def duration(self):\n",
    "        if self.end is None:\n",
    "            return 0\n",
    "        return self.end - self.start\n",
    "\n",
    "    def __enter__(self):\n",
    "        self.start = time()\n",
    "\n",
    "    def __exit__(self, exc_type, exc_val, exc_tb):\n",
    "        self.end = time()\n",
    "        out_str = self.format_str.format(self.duration)\n",
    "        if self.logger:\n",
    "            self.logger.info(out_str)\n",
    "        else:\n",
    "            print(out_str)"
   ]
  },
  {
   "cell_type": "code",
   "execution_count": 24,
   "id": "723182a4",
   "metadata": {},
   "outputs": [],
   "source": [
    "from tqdm import tqdm\n",
    "\n",
    "def to_feature(input_df):\n",
    "\n",
    "    processors = [\n",
    "        create_numeric_feature,\n",
    "    ]\n",
    "    \n",
    "    out_df = pd.DataFrame()\n",
    "    \n",
    "    for func in tqdm(processors, total=len(processors)):\n",
    "        with Timer(prefix='create' + func.__name__ + ' '):\n",
    "            _df = func(input_df)\n",
    "\n",
    "        assert len(_df) == len(input_df), func.__name__\n",
    "        out_df = pd.concat([out_df, _df], axis=1)\n",
    "        \n",
    "    return out_df"
   ]
  },
  {
   "cell_type": "code",
   "execution_count": 25,
   "id": "b7a1a24e",
   "metadata": {},
   "outputs": [
    {
     "name": "stderr",
     "output_type": "stream",
     "text": [
      "100%|████████████████████████████████████████████████████████████████████████████████████████████████████████████████████████████████████████████████████████████████████| 1/1 [00:00<?, ?it/s]\n"
     ]
    },
    {
     "name": "stdout",
     "output_type": "stream",
     "text": [
      "createcreate_numeric_feature  0.000[s]\n"
     ]
    },
    {
     "name": "stderr",
     "output_type": "stream",
     "text": [
      "100%|███████████████████████████████████████████████████████████████████████████████████████████████████████████████████████████████████████████████████████████| 1/1 [00:00<00:00, 501.41it/s]"
     ]
    },
    {
     "name": "stdout",
     "output_type": "stream",
     "text": [
      "createcreate_numeric_feature  0.001[s]\n"
     ]
    },
    {
     "name": "stderr",
     "output_type": "stream",
     "text": [
      "\n"
     ]
    }
   ],
   "source": [
    "train_feat_df = to_feature(trainX)\n",
    "test_feat_df = to_feature(testX)"
   ]
  },
  {
   "cell_type": "code",
   "execution_count": 26,
   "id": "039ccf18",
   "metadata": {},
   "outputs": [],
   "source": [
    "# ......................................create a model...................................\n",
    "import lightgbm as lgbm\n",
    "from sklearn.metrics import mean_squared_error\n",
    "\n",
    "def fit_lgbm(X, y, cv, \n",
    "             params: dict=None, \n",
    "             verbose: int=50):\n",
    "\n",
    "    if params is None:\n",
    "        params = {}\n",
    "\n",
    "    models = []\n",
    "    oof_pred = np.zeros_like(y, dtype=np.float)\n",
    "\n",
    "    for i, (idx_train, idx_valid) in enumerate(cv): \n",
    "        x_train, y_train = X[idx_train], y[idx_train]\n",
    "        x_valid, y_valid = X[idx_valid], y[idx_valid]\n",
    "\n",
    "        clf = lgbm.LGBMRegressor(**params)\n",
    "        \n",
    "        with Timer(prefix='fit fold={} '.format(i)):\n",
    "            clf.fit(x_train, y_train, \n",
    "                    eval_set=[(x_valid, y_valid)],  \n",
    "                    early_stopping_rounds=100,\n",
    "                    verbose=verbose)\n",
    "\n",
    "        pred_i = clf.predict(x_valid)\n",
    "        oof_pred[idx_valid] = pred_i\n",
    "        models.append(clf)\n",
    "        print(f'Fold {i} RMSLE: {mean_squared_error(y_valid, pred_i) ** .5:.4f}')\n",
    "        print()\n",
    "\n",
    "    score = mean_squared_error(y, oof_pred) ** .5\n",
    "    print('-' * 50)\n",
    "    print('FINISHED | Whole RMSLE: {:.4f}'.format(score))\n",
    "    return oof_pred, models"
   ]
  },
  {
   "cell_type": "code",
   "execution_count": 27,
   "id": "3d77e890",
   "metadata": {},
   "outputs": [
    {
     "name": "stdout",
     "output_type": "stream",
     "text": [
      "(102,)\n",
      "<class 'pandas.core.series.Series'>\n"
     ]
    }
   ],
   "source": [
    "y = trainY\n",
    "print(y.shape)\n",
    "print(type(y))"
   ]
  },
  {
   "cell_type": "code",
   "execution_count": 28,
   "id": "84427621",
   "metadata": {},
   "outputs": [
    {
     "data": {
      "text/html": [
       "<div>\n",
       "<style scoped>\n",
       "    .dataframe tbody tr th:only-of-type {\n",
       "        vertical-align: middle;\n",
       "    }\n",
       "\n",
       "    .dataframe tbody tr th {\n",
       "        vertical-align: top;\n",
       "    }\n",
       "\n",
       "    .dataframe thead th {\n",
       "        text-align: right;\n",
       "    }\n",
       "</style>\n",
       "<table border=\"1\" class=\"dataframe\">\n",
       "  <thead>\n",
       "    <tr style=\"text-align: right;\">\n",
       "      <th></th>\n",
       "      <th>PriceinUK</th>\n",
       "    </tr>\n",
       "  </thead>\n",
       "  <tbody>\n",
       "    <tr>\n",
       "      <th>38</th>\n",
       "      <td>83580</td>\n",
       "    </tr>\n",
       "    <tr>\n",
       "      <th>34</th>\n",
       "      <td>19795</td>\n",
       "    </tr>\n",
       "    <tr>\n",
       "      <th>71</th>\n",
       "      <td>52500</td>\n",
       "    </tr>\n",
       "    <tr>\n",
       "      <th>65</th>\n",
       "      <td>30895</td>\n",
       "    </tr>\n",
       "    <tr>\n",
       "      <th>15</th>\n",
       "      <td>30550</td>\n",
       "    </tr>\n",
       "    <tr>\n",
       "      <th>...</th>\n",
       "      <td>...</td>\n",
       "    </tr>\n",
       "    <tr>\n",
       "      <th>85</th>\n",
       "      <td>30345</td>\n",
       "    </tr>\n",
       "    <tr>\n",
       "      <th>43</th>\n",
       "      <td>49980</td>\n",
       "    </tr>\n",
       "    <tr>\n",
       "      <th>67</th>\n",
       "      <td>42250</td>\n",
       "    </tr>\n",
       "    <tr>\n",
       "      <th>35</th>\n",
       "      <td>30160</td>\n",
       "    </tr>\n",
       "    <tr>\n",
       "      <th>135</th>\n",
       "      <td>26495</td>\n",
       "    </tr>\n",
       "  </tbody>\n",
       "</table>\n",
       "<p>102 rows × 1 columns</p>\n",
       "</div>"
      ],
      "text/plain": [
       "     PriceinUK\n",
       "38       83580\n",
       "34       19795\n",
       "71       52500\n",
       "65       30895\n",
       "15       30550\n",
       "..         ...\n",
       "85       30345\n",
       "43       49980\n",
       "67       42250\n",
       "35       30160\n",
       "135      26495\n",
       "\n",
       "[102 rows x 1 columns]"
      ]
     },
     "execution_count": 28,
     "metadata": {},
     "output_type": "execute_result"
    }
   ],
   "source": [
    "ydf=pd.DataFrame(y)\n",
    "ydf"
   ]
  },
  {
   "cell_type": "code",
   "execution_count": 29,
   "id": "bf3b7cfe",
   "metadata": {},
   "outputs": [],
   "source": [
    "params = {\n",
    "    'objective': 'rmse', \n",
    "    'learning_rate': .1,\n",
    "    'reg_lambda': 1.,\n",
    "    'reg_alpha': .1,\n",
    "    'max_depth': 5, \n",
    "    'n_estimators': 10000, \n",
    "    'colsample_bytree': .5, \n",
    "    'min_child_samples': 10,\n",
    "    'subsample_freq': 3,\n",
    "    'subsample': .9,\n",
    "    'importance_type': 'gain', \n",
    "    'random_state': 71,\n",
    "    'num_leaves': 62\n",
    "}"
   ]
  },
  {
   "cell_type": "code",
   "execution_count": 30,
   "id": "655a55b9",
   "metadata": {},
   "outputs": [
    {
     "name": "stderr",
     "output_type": "stream",
     "text": [
      "C:\\Users\\vikas\\AppData\\Local\\Temp\\ipykernel_10284\\400281694.py:13: DeprecationWarning: `np.float` is a deprecated alias for the builtin `float`. To silence this warning, use `float` by itself. Doing this will not modify any behavior and is safe. If you specifically wanted the numpy scalar type, use `np.float64` here.\n",
      "Deprecated in NumPy 1.20; for more details and guidance: https://numpy.org/devdocs/release/1.20.0-notes.html#deprecations\n",
      "  oof_pred = np.zeros_like(y, dtype=np.float)\n",
      "C:\\Users\\vikas\\OneDrive\\Desktop\\electic_vehical\\venv\\lib\\site-packages\\lightgbm\\sklearn.py:726: UserWarning: 'early_stopping_rounds' argument is deprecated and will be removed in a future release of LightGBM. Pass 'early_stopping()' callback via 'callbacks' argument instead.\n",
      "  _log_warning(\"'early_stopping_rounds' argument is deprecated and will be removed in a future release of LightGBM. \"\n",
      "C:\\Users\\vikas\\OneDrive\\Desktop\\electic_vehical\\venv\\lib\\site-packages\\lightgbm\\sklearn.py:736: UserWarning: 'verbose' argument is deprecated and will be removed in a future release of LightGBM. Pass 'log_evaluation()' callback via 'callbacks' argument instead.\n",
      "  _log_warning(\"'verbose' argument is deprecated and will be removed in a future release of LightGBM. \"\n",
      "C:\\Users\\vikas\\OneDrive\\Desktop\\electic_vehical\\venv\\lib\\site-packages\\lightgbm\\sklearn.py:726: UserWarning: 'early_stopping_rounds' argument is deprecated and will be removed in a future release of LightGBM. Pass 'early_stopping()' callback via 'callbacks' argument instead.\n",
      "  _log_warning(\"'early_stopping_rounds' argument is deprecated and will be removed in a future release of LightGBM. \"\n",
      "C:\\Users\\vikas\\OneDrive\\Desktop\\electic_vehical\\venv\\lib\\site-packages\\lightgbm\\sklearn.py:736: UserWarning: 'verbose' argument is deprecated and will be removed in a future release of LightGBM. Pass 'log_evaluation()' callback via 'callbacks' argument instead.\n",
      "  _log_warning(\"'verbose' argument is deprecated and will be removed in a future release of LightGBM. \"\n",
      "C:\\Users\\vikas\\OneDrive\\Desktop\\electic_vehical\\venv\\lib\\site-packages\\lightgbm\\sklearn.py:726: UserWarning: 'early_stopping_rounds' argument is deprecated and will be removed in a future release of LightGBM. Pass 'early_stopping()' callback via 'callbacks' argument instead.\n",
      "  _log_warning(\"'early_stopping_rounds' argument is deprecated and will be removed in a future release of LightGBM. \"\n",
      "C:\\Users\\vikas\\OneDrive\\Desktop\\electic_vehical\\venv\\lib\\site-packages\\lightgbm\\sklearn.py:736: UserWarning: 'verbose' argument is deprecated and will be removed in a future release of LightGBM. Pass 'log_evaluation()' callback via 'callbacks' argument instead.\n",
      "  _log_warning(\"'verbose' argument is deprecated and will be removed in a future release of LightGBM. \"\n"
     ]
    },
    {
     "name": "stdout",
     "output_type": "stream",
     "text": [
      "fit fold=0  0.125[s]\n",
      "Fold 0 RMSLE: 9144.8385\n",
      "\n",
      "fit fold=1  0.047[s]\n",
      "Fold 1 RMSLE: 7419.1824\n",
      "\n",
      "fit fold=2  0.054[s]\n",
      "Fold 2 RMSLE: 11288.6116\n",
      "\n",
      "fit fold=3  0.030[s]\n",
      "Fold 3 RMSLE: 11463.1361\n",
      "\n"
     ]
    },
    {
     "name": "stderr",
     "output_type": "stream",
     "text": [
      "C:\\Users\\vikas\\OneDrive\\Desktop\\electic_vehical\\venv\\lib\\site-packages\\lightgbm\\sklearn.py:726: UserWarning: 'early_stopping_rounds' argument is deprecated and will be removed in a future release of LightGBM. Pass 'early_stopping()' callback via 'callbacks' argument instead.\n",
      "  _log_warning(\"'early_stopping_rounds' argument is deprecated and will be removed in a future release of LightGBM. \"\n",
      "C:\\Users\\vikas\\OneDrive\\Desktop\\electic_vehical\\venv\\lib\\site-packages\\lightgbm\\sklearn.py:736: UserWarning: 'verbose' argument is deprecated and will be removed in a future release of LightGBM. Pass 'log_evaluation()' callback via 'callbacks' argument instead.\n",
      "  _log_warning(\"'verbose' argument is deprecated and will be removed in a future release of LightGBM. \"\n",
      "C:\\Users\\vikas\\OneDrive\\Desktop\\electic_vehical\\venv\\lib\\site-packages\\lightgbm\\sklearn.py:726: UserWarning: 'early_stopping_rounds' argument is deprecated and will be removed in a future release of LightGBM. Pass 'early_stopping()' callback via 'callbacks' argument instead.\n",
      "  _log_warning(\"'early_stopping_rounds' argument is deprecated and will be removed in a future release of LightGBM. \"\n",
      "C:\\Users\\vikas\\OneDrive\\Desktop\\electic_vehical\\venv\\lib\\site-packages\\lightgbm\\sklearn.py:736: UserWarning: 'verbose' argument is deprecated and will be removed in a future release of LightGBM. Pass 'log_evaluation()' callback via 'callbacks' argument instead.\n",
      "  _log_warning(\"'verbose' argument is deprecated and will be removed in a future release of LightGBM. \"\n"
     ]
    },
    {
     "name": "stdout",
     "output_type": "stream",
     "text": [
      "[500]\tvalid_0's rmse: 10601.8\n",
      "fit fold=4  0.203[s]\n",
      "Fold 4 RMSLE: 10513.1221\n",
      "\n",
      "--------------------------------------------------\n",
      "FINISHED | Whole RMSLE: 10048.5872\n"
     ]
    },
    {
     "data": {
      "image/png": "[encoded data removed]",
      "text/plain": [
       "<Figure size 432x432 with 1 Axes>"
      ]
     },
     "metadata": {
      "needs_background": "light"
     },
     "output_type": "display_data"
    }
   ],
   "source": [
    "from sklearn.model_selection import KFold\n",
    "\n",
    "for i in range(1):\n",
    "    fold = KFold(n_splits=5, shuffle=True, random_state=71)\n",
    "    ydfi=ydf.iloc[:,i]\n",
    "    y=np.array(ydfi)\n",
    "    cv = list(fold.split(train_feat_df, y))\n",
    "    oof, models = fit_lgbm(train_feat_df.values, y, cv, params=params, verbose=500)\n",
    "    \n",
    "    fig,ax = plt.subplots(figsize=(6,6))\n",
    "    ax.set_title(target[i],fontsize=20)\n",
    "    ax.set_ylabel('Predicted Train '+target[i],fontsize=12)\n",
    "    ax.set_xlabel('Actual Train '+target[i],fontsize=12)\n",
    "    ax.scatter(y,oof)"
   ]
  },
  {
   "cell_type": "code",
   "execution_count": 31,
   "id": "a50b5b0b",
   "metadata": {},
   "outputs": [
    {
     "data": {
      "text/plain": [
       "<matplotlib.collections.PathCollection at 0x1c43e642ec0>"
      ]
     },
     "execution_count": 31,
     "metadata": {},
     "output_type": "execute_result"
    },
    {
     "data": {
      "image/png": "[encoded data removed]",
      "text/plain": [
       "<Figure size 432x432 with 1 Axes>"
      ]
     },
     "metadata": {
      "needs_background": "light"
     },
     "output_type": "display_data"
    }
   ],
   "source": [
    "pred0 = np.array([model.predict(test_feat_df.values) for model in models])\n",
    "PRED = pred0[4]\n",
    "PRED[0:5]\n",
    "ANS=np.array(testY)\n",
    "ANS[0:5]\n",
    "fig,ax = plt.subplots(figsize=(6,6))\n",
    "ax.set_title(target[0],fontsize=20)\n",
    "ax.set_xlabel('Actual Test '+target[0],fontsize=20)\n",
    "ax.set_ylabel('Predicted Test '+target[0],fontsize=12)\n",
    "ax.scatter(ANS,PRED)"
   ]
  },
  {
   "cell_type": "code",
   "execution_count": null,
   "id": "b0378d9c",
   "metadata": {},
   "outputs": [],
   "source": []
  }
 ],
 "metadata": {
  "kernelspec": {
   "display_name": "Python 3 (ipykernel)",
   "language": "python",
   "name": "python3"
  },
  "language_info": {
   "codemirror_mode": {
    "name": "ipython",
    "version": 3
   },
   "file_extension": ".py",
   "mimetype": "text/x-python",
   "name": "python",
   "nbconvert_exporter": "python",
   "pygments_lexer": "ipython3",
   "version": "3.7.6"
  }
 },
 "nbformat": 4,
 "nbformat_minor": 5
}
