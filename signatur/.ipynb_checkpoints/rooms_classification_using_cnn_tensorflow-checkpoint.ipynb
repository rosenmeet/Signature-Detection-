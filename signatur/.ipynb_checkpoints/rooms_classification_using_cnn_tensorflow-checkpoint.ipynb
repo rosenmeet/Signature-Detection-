{
 "cells": [
  {
   "cell_type": "code",
   "execution_count": 281,
   "metadata": {},
   "outputs": [
    {
     "name": "stdout",
     "output_type": "stream",
     "text": [
      "['bed_room', 'dining_room', 'living_room']\n",
      "Types of rooms found:  3\n"
     ]
    }
   ],
   "source": [
    "import numpy as np \n",
    "import pandas as pd \n",
    "import matplotlib.pyplot as plt\n",
    "import os\n",
    "\n",
    "dataset_path = os.listdir('dataset')\n",
    "\n",
    "room_types = os.listdir('dataset')\n",
    "print (room_types)  #what kinds of rooms are in this dataset\n",
    "\n",
    "print(\"Types of rooms found: \", len(dataset_path))\n",
    "\n"
   ]
  },
  {
   "cell_type": "code",
   "execution_count": 282,
   "metadata": {},
   "outputs": [
    {
     "name": "stdout",
     "output_type": "stream",
     "text": [
      "[('bed_room', 'dataset/bed_room/apartment-2094734__340.jpg')]\n",
      "[('bed_room', 'dataset/bed_room/apartment-2094734__340.jpg')]\n",
      "[('bed_room', 'dataset/bed_room/apartment-2094734__340.jpg')]\n",
      "[('bed_room', 'dataset/bed_room/apartment-2094734__340.jpg')]\n",
      "[('bed_room', 'dataset/bed_room/apartment-2094734__340.jpg')]\n",
      "[('bed_room', 'dataset/bed_room/apartment-2094734__340.jpg')]\n",
      "[('bed_room', 'dataset/bed_room/apartment-2094734__340.jpg')]\n",
      "[('bed_room', 'dataset/bed_room/apartment-2094734__340.jpg')]\n",
      "[('bed_room', 'dataset/bed_room/apartment-2094734__340.jpg')]\n",
      "[('bed_room', 'dataset/bed_room/apartment-2094734__340.jpg')]\n",
      "[('bed_room', 'dataset/bed_room/apartment-2094734__340.jpg')]\n",
      "[('bed_room', 'dataset/bed_room/apartment-2094734__340.jpg')]\n",
      "[('bed_room', 'dataset/bed_room/apartment-2094734__340.jpg')]\n",
      "[('bed_room', 'dataset/bed_room/apartment-2094734__340.jpg')]\n",
      "[('bed_room', 'dataset/bed_room/apartment-2094734__340.jpg')]\n",
      "[('bed_room', 'dataset/bed_room/apartment-2094734__340.jpg')]\n",
      "[('bed_room', 'dataset/bed_room/apartment-2094734__340.jpg')]\n",
      "[('bed_room', 'dataset/bed_room/apartment-2094734__340.jpg')]\n",
      "[('bed_room', 'dataset/bed_room/apartment-2094734__340.jpg')]\n",
      "[('bed_room', 'dataset/bed_room/apartment-2094734__340.jpg')]\n",
      "[('bed_room', 'dataset/bed_room/apartment-2094734__340.jpg')]\n",
      "[('bed_room', 'dataset/bed_room/apartment-2094734__340.jpg')]\n",
      "[('bed_room', 'dataset/bed_room/apartment-2094734__340.jpg')]\n",
      "[('bed_room', 'dataset/bed_room/apartment-2094734__340.jpg')]\n",
      "[('bed_room', 'dataset/bed_room/apartment-2094734__340.jpg')]\n",
      "[('bed_room', 'dataset/bed_room/apartment-2094734__340.jpg')]\n",
      "[('bed_room', 'dataset/bed_room/apartment-2094734__340.jpg')]\n",
      "[('bed_room', 'dataset/bed_room/apartment-2094734__340.jpg')]\n",
      "[('bed_room', 'dataset/bed_room/apartment-2094734__340.jpg')]\n",
      "[('bed_room', 'dataset/bed_room/apartment-2094734__340.jpg')]\n",
      "[('bed_room', 'dataset/bed_room/apartment-2094734__340.jpg')]\n",
      "[('bed_room', 'dataset/bed_room/apartment-2094734__340.jpg')]\n",
      "[('bed_room', 'dataset/bed_room/apartment-2094734__340.jpg')]\n",
      "[('bed_room', 'dataset/bed_room/apartment-2094734__340.jpg')]\n",
      "[('bed_room', 'dataset/bed_room/apartment-2094734__340.jpg')]\n",
      "[('bed_room', 'dataset/bed_room/apartment-2094734__340.jpg')]\n",
      "[('bed_room', 'dataset/bed_room/apartment-2094734__340.jpg')]\n",
      "[('bed_room', 'dataset/bed_room/apartment-2094734__340.jpg')]\n",
      "[('bed_room', 'dataset/bed_room/apartment-2094734__340.jpg')]\n",
      "[('bed_room', 'dataset/bed_room/apartment-2094734__340.jpg')]\n",
      "[('bed_room', 'dataset/bed_room/apartment-2094734__340.jpg')]\n",
      "[('bed_room', 'dataset/bed_room/apartment-2094734__340.jpg')]\n",
      "[('bed_room', 'dataset/bed_room/apartment-2094734__340.jpg')]\n",
      "[('bed_room', 'dataset/bed_room/apartment-2094734__340.jpg')]\n",
      "[('bed_room', 'dataset/bed_room/apartment-2094734__340.jpg')]\n",
      "[('bed_room', 'dataset/bed_room/apartment-2094734__340.jpg')]\n",
      "[('bed_room', 'dataset/bed_room/apartment-2094734__340.jpg')]\n",
      "[('bed_room', 'dataset/bed_room/apartment-2094734__340.jpg')]\n",
      "[('bed_room', 'dataset/bed_room/apartment-2094734__340.jpg')]\n",
      "[('bed_room', 'dataset/bed_room/apartment-2094734__340.jpg')]\n",
      "[('bed_room', 'dataset/bed_room/apartment-2094734__340.jpg')]\n",
      "[('bed_room', 'dataset/bed_room/apartment-2094734__340.jpg')]\n",
      "[('bed_room', 'dataset/bed_room/apartment-2094734__340.jpg')]\n",
      "[('bed_room', 'dataset/bed_room/apartment-2094734__340.jpg')]\n",
      "[('bed_room', 'dataset/bed_room/apartment-2094734__340.jpg')]\n",
      "[('bed_room', 'dataset/bed_room/apartment-2094734__340.jpg')]\n",
      "[('bed_room', 'dataset/bed_room/apartment-2094734__340.jpg')]\n",
      "[('bed_room', 'dataset/bed_room/apartment-2094734__340.jpg')]\n",
      "[('bed_room', 'dataset/bed_room/apartment-2094734__340.jpg')]\n",
      "[('bed_room', 'dataset/bed_room/apartment-2094734__340.jpg')]\n",
      "[('bed_room', 'dataset/bed_room/apartment-2094734__340.jpg')]\n",
      "[('bed_room', 'dataset/bed_room/apartment-2094734__340.jpg')]\n",
      "[('bed_room', 'dataset/bed_room/apartment-2094734__340.jpg')]\n",
      "[('bed_room', 'dataset/bed_room/apartment-2094734__340.jpg')]\n",
      "[('bed_room', 'dataset/bed_room/apartment-2094734__340.jpg')]\n",
      "[('bed_room', 'dataset/bed_room/apartment-2094734__340.jpg')]\n",
      "[('bed_room', 'dataset/bed_room/apartment-2094734__340.jpg')]\n",
      "[('bed_room', 'dataset/bed_room/apartment-2094734__340.jpg')]\n",
      "[('bed_room', 'dataset/bed_room/apartment-2094734__340.jpg')]\n",
      "[('bed_room', 'dataset/bed_room/apartment-2094734__340.jpg')]\n",
      "[('bed_room', 'dataset/bed_room/apartment-2094734__340.jpg')]\n",
      "[('bed_room', 'dataset/bed_room/apartment-2094734__340.jpg')]\n",
      "[('bed_room', 'dataset/bed_room/apartment-2094734__340.jpg')]\n",
      "[('bed_room', 'dataset/bed_room/apartment-2094734__340.jpg')]\n",
      "[('bed_room', 'dataset/bed_room/apartment-2094734__340.jpg')]\n",
      "[('bed_room', 'dataset/bed_room/apartment-2094734__340.jpg')]\n",
      "[('bed_room', 'dataset/bed_room/apartment-2094734__340.jpg')]\n",
      "[('bed_room', 'dataset/bed_room/apartment-2094734__340.jpg')]\n",
      "[('bed_room', 'dataset/bed_room/apartment-2094734__340.jpg')]\n",
      "[('bed_room', 'dataset/bed_room/apartment-2094734__340.jpg')]\n",
      "[('bed_room', 'dataset/bed_room/apartment-2094734__340.jpg')]\n",
      "[('bed_room', 'dataset/bed_room/apartment-2094734__340.jpg')]\n",
      "[('bed_room', 'dataset/bed_room/apartment-2094734__340.jpg')]\n",
      "[('bed_room', 'dataset/bed_room/apartment-2094734__340.jpg')]\n",
      "[('bed_room', 'dataset/bed_room/apartment-2094734__340.jpg')]\n",
      "[('bed_room', 'dataset/bed_room/apartment-2094734__340.jpg')]\n",
      "[('bed_room', 'dataset/bed_room/apartment-2094734__340.jpg')]\n",
      "[('bed_room', 'dataset/bed_room/apartment-2094734__340.jpg')]\n",
      "[('bed_room', 'dataset/bed_room/apartment-2094734__340.jpg')]\n",
      "[('bed_room', 'dataset/bed_room/apartment-2094734__340.jpg')]\n",
      "[('bed_room', 'dataset/bed_room/apartment-2094734__340.jpg')]\n",
      "[('bed_room', 'dataset/bed_room/apartment-2094734__340.jpg')]\n",
      "[('bed_room', 'dataset/bed_room/apartment-2094734__340.jpg')]\n",
      "[('bed_room', 'dataset/bed_room/apartment-2094734__340.jpg')]\n",
      "[('bed_room', 'dataset/bed_room/apartment-2094734__340.jpg')]\n",
      "[('bed_room', 'dataset/bed_room/apartment-2094734__340.jpg')]\n",
      "[('bed_room', 'dataset/bed_room/apartment-2094734__340.jpg')]\n",
      "[('bed_room', 'dataset/bed_room/apartment-2094734__340.jpg')]\n",
      "[('bed_room', 'dataset/bed_room/apartment-2094734__340.jpg')]\n",
      "[('bed_room', 'dataset/bed_room/apartment-2094734__340.jpg')]\n",
      "[('bed_room', 'dataset/bed_room/apartment-2094734__340.jpg')]\n",
      "[('bed_room', 'dataset/bed_room/apartment-2094734__340.jpg')]\n",
      "[('bed_room', 'dataset/bed_room/apartment-2094734__340.jpg')]\n",
      "[('bed_room', 'dataset/bed_room/apartment-2094734__340.jpg')]\n",
      "[('bed_room', 'dataset/bed_room/apartment-2094734__340.jpg')]\n",
      "[('bed_room', 'dataset/bed_room/apartment-2094734__340.jpg')]\n",
      "[('bed_room', 'dataset/bed_room/apartment-2094734__340.jpg')]\n",
      "[('bed_room', 'dataset/bed_room/apartment-2094734__340.jpg')]\n",
      "[('bed_room', 'dataset/bed_room/apartment-2094734__340.jpg')]\n",
      "[('bed_room', 'dataset/bed_room/apartment-2094734__340.jpg')]\n",
      "[('bed_room', 'dataset/bed_room/apartment-2094734__340.jpg')]\n",
      "[('bed_room', 'dataset/bed_room/apartment-2094734__340.jpg')]\n",
      "[('bed_room', 'dataset/bed_room/apartment-2094734__340.jpg')]\n",
      "[('bed_room', 'dataset/bed_room/apartment-2094734__340.jpg')]\n",
      "[('bed_room', 'dataset/bed_room/apartment-2094734__340.jpg')]\n",
      "[('bed_room', 'dataset/bed_room/apartment-2094734__340.jpg')]\n",
      "[('bed_room', 'dataset/bed_room/apartment-2094734__340.jpg')]\n",
      "[('bed_room', 'dataset/bed_room/apartment-2094734__340.jpg')]\n",
      "[('bed_room', 'dataset/bed_room/apartment-2094734__340.jpg')]\n",
      "[('bed_room', 'dataset/bed_room/apartment-2094734__340.jpg')]\n",
      "[('bed_room', 'dataset/bed_room/apartment-2094734__340.jpg')]\n",
      "[('bed_room', 'dataset/bed_room/apartment-2094734__340.jpg')]\n",
      "[('bed_room', 'dataset/bed_room/apartment-2094734__340.jpg')]\n",
      "[('bed_room', 'dataset/bed_room/apartment-2094734__340.jpg')]\n",
      "[('bed_room', 'dataset/bed_room/apartment-2094734__340.jpg')]\n",
      "[('bed_room', 'dataset/bed_room/apartment-2094734__340.jpg')]\n",
      "[('bed_room', 'dataset/bed_room/apartment-2094734__340.jpg')]\n",
      "[('bed_room', 'dataset/bed_room/apartment-2094734__340.jpg')]\n",
      "[('bed_room', 'dataset/bed_room/apartment-2094734__340.jpg')]\n",
      "[('bed_room', 'dataset/bed_room/apartment-2094734__340.jpg')]\n",
      "[('bed_room', 'dataset/bed_room/apartment-2094734__340.jpg')]\n",
      "[('bed_room', 'dataset/bed_room/apartment-2094734__340.jpg')]\n",
      "[('bed_room', 'dataset/bed_room/apartment-2094734__340.jpg')]\n",
      "[('bed_room', 'dataset/bed_room/apartment-2094734__340.jpg')]\n",
      "[('bed_room', 'dataset/bed_room/apartment-2094734__340.jpg')]\n",
      "[('bed_room', 'dataset/bed_room/apartment-2094734__340.jpg')]\n",
      "[('bed_room', 'dataset/bed_room/apartment-2094734__340.jpg')]\n",
      "[('bed_room', 'dataset/bed_room/apartment-2094734__340.jpg')]\n",
      "[('bed_room', 'dataset/bed_room/apartment-2094734__340.jpg')]\n",
      "[('bed_room', 'dataset/bed_room/apartment-2094734__340.jpg')]\n",
      "[('bed_room', 'dataset/bed_room/apartment-2094734__340.jpg')]\n",
      "[('bed_room', 'dataset/bed_room/apartment-2094734__340.jpg')]\n",
      "[('bed_room', 'dataset/bed_room/apartment-2094734__340.jpg')]\n",
      "[('bed_room', 'dataset/bed_room/apartment-2094734__340.jpg')]\n",
      "[('bed_room', 'dataset/bed_room/apartment-2094734__340.jpg')]\n",
      "[('bed_room', 'dataset/bed_room/apartment-2094734__340.jpg')]\n",
      "[('bed_room', 'dataset/bed_room/apartment-2094734__340.jpg')]\n",
      "[('bed_room', 'dataset/bed_room/apartment-2094734__340.jpg')]\n",
      "[('bed_room', 'dataset/bed_room/apartment-2094734__340.jpg')]\n",
      "[('bed_room', 'dataset/bed_room/apartment-2094734__340.jpg')]\n",
      "[('bed_room', 'dataset/bed_room/apartment-2094734__340.jpg')]\n",
      "[('bed_room', 'dataset/bed_room/apartment-2094734__340.jpg')]\n",
      "[('bed_room', 'dataset/bed_room/apartment-2094734__340.jpg')]\n",
      "[('bed_room', 'dataset/bed_room/apartment-2094734__340.jpg')]\n",
      "[('bed_room', 'dataset/bed_room/apartment-2094734__340.jpg')]\n",
      "[('bed_room', 'dataset/bed_room/apartment-2094734__340.jpg')]\n",
      "[('bed_room', 'dataset/bed_room/apartment-2094734__340.jpg')]\n",
      "[('bed_room', 'dataset/bed_room/apartment-2094734__340.jpg')]\n",
      "[('bed_room', 'dataset/bed_room/apartment-2094734__340.jpg')]\n",
      "[('bed_room', 'dataset/bed_room/apartment-2094734__340.jpg')]\n",
      "[('bed_room', 'dataset/bed_room/apartment-2094734__340.jpg')]\n",
      "[('bed_room', 'dataset/bed_room/apartment-2094734__340.jpg')]\n",
      "[('bed_room', 'dataset/bed_room/apartment-2094734__340.jpg')]\n",
      "[('bed_room', 'dataset/bed_room/apartment-2094734__340.jpg')]\n",
      "[('bed_room', 'dataset/bed_room/apartment-2094734__340.jpg')]\n",
      "[('bed_room', 'dataset/bed_room/apartment-2094734__340.jpg')]\n",
      "[('bed_room', 'dataset/bed_room/apartment-2094734__340.jpg')]\n",
      "[('bed_room', 'dataset/bed_room/apartment-2094734__340.jpg')]\n",
      "[('bed_room', 'dataset/bed_room/apartment-2094734__340.jpg')]\n",
      "[('bed_room', 'dataset/bed_room/apartment-2094734__340.jpg')]\n",
      "[('bed_room', 'dataset/bed_room/apartment-2094734__340.jpg')]\n",
      "[('bed_room', 'dataset/bed_room/apartment-2094734__340.jpg')]\n",
      "[('bed_room', 'dataset/bed_room/apartment-2094734__340.jpg')]\n",
      "[('bed_room', 'dataset/bed_room/apartment-2094734__340.jpg')]\n",
      "[('bed_room', 'dataset/bed_room/apartment-2094734__340.jpg')]\n",
      "[('bed_room', 'dataset/bed_room/apartment-2094734__340.jpg')]\n",
      "[('bed_room', 'dataset/bed_room/apartment-2094734__340.jpg')]\n",
      "[('bed_room', 'dataset/bed_room/apartment-2094734__340.jpg')]\n",
      "[('bed_room', 'dataset/bed_room/apartment-2094734__340.jpg')]\n",
      "[('bed_room', 'dataset/bed_room/apartment-2094734__340.jpg')]\n",
      "[('bed_room', 'dataset/bed_room/apartment-2094734__340.jpg')]\n",
      "[('bed_room', 'dataset/bed_room/apartment-2094734__340.jpg')]\n",
      "[('bed_room', 'dataset/bed_room/apartment-2094734__340.jpg')]\n",
      "[('bed_room', 'dataset/bed_room/apartment-2094734__340.jpg')]\n",
      "[('bed_room', 'dataset/bed_room/apartment-2094734__340.jpg')]\n",
      "[('bed_room', 'dataset/bed_room/apartment-2094734__340.jpg')]\n",
      "[('bed_room', 'dataset/bed_room/apartment-2094734__340.jpg')]\n",
      "[('bed_room', 'dataset/bed_room/apartment-2094734__340.jpg')]\n",
      "[('bed_room', 'dataset/bed_room/apartment-2094734__340.jpg')]\n",
      "[('bed_room', 'dataset/bed_room/apartment-2094734__340.jpg')]\n",
      "[('bed_room', 'dataset/bed_room/apartment-2094734__340.jpg')]\n",
      "[('bed_room', 'dataset/bed_room/apartment-2094734__340.jpg')]\n",
      "[('bed_room', 'dataset/bed_room/apartment-2094734__340.jpg')]\n",
      "[('bed_room', 'dataset/bed_room/apartment-2094734__340.jpg')]\n",
      "[('bed_room', 'dataset/bed_room/apartment-2094734__340.jpg')]\n",
      "[('bed_room', 'dataset/bed_room/apartment-2094734__340.jpg')]\n",
      "[('bed_room', 'dataset/bed_room/apartment-2094734__340.jpg')]\n",
      "[('bed_room', 'dataset/bed_room/apartment-2094734__340.jpg')]\n",
      "[('bed_room', 'dataset/bed_room/apartment-2094734__340.jpg')]\n",
      "[('bed_room', 'dataset/bed_room/apartment-2094734__340.jpg')]\n",
      "[('bed_room', 'dataset/bed_room/apartment-2094734__340.jpg')]\n",
      "[('bed_room', 'dataset/bed_room/apartment-2094734__340.jpg')]\n",
      "[('bed_room', 'dataset/bed_room/apartment-2094734__340.jpg')]\n",
      "[('bed_room', 'dataset/bed_room/apartment-2094734__340.jpg')]\n",
      "[('bed_room', 'dataset/bed_room/apartment-2094734__340.jpg')]\n",
      "[('bed_room', 'dataset/bed_room/apartment-2094734__340.jpg')]\n",
      "[('bed_room', 'dataset/bed_room/apartment-2094734__340.jpg')]\n",
      "[('bed_room', 'dataset/bed_room/apartment-2094734__340.jpg')]\n",
      "[('bed_room', 'dataset/bed_room/apartment-2094734__340.jpg')]\n",
      "[('bed_room', 'dataset/bed_room/apartment-2094734__340.jpg')]\n",
      "[('bed_room', 'dataset/bed_room/apartment-2094734__340.jpg')]\n",
      "[('bed_room', 'dataset/bed_room/apartment-2094734__340.jpg')]\n",
      "[('bed_room', 'dataset/bed_room/apartment-2094734__340.jpg')]\n",
      "[('bed_room', 'dataset/bed_room/apartment-2094734__340.jpg')]\n",
      "[('bed_room', 'dataset/bed_room/apartment-2094734__340.jpg')]\n",
      "[('bed_room', 'dataset/bed_room/apartment-2094734__340.jpg')]\n",
      "[('bed_room', 'dataset/bed_room/apartment-2094734__340.jpg')]\n",
      "[('bed_room', 'dataset/bed_room/apartment-2094734__340.jpg')]\n",
      "[('bed_room', 'dataset/bed_room/apartment-2094734__340.jpg')]\n",
      "[('bed_room', 'dataset/bed_room/apartment-2094734__340.jpg')]\n",
      "[('bed_room', 'dataset/bed_room/apartment-2094734__340.jpg')]\n",
      "[('bed_room', 'dataset/bed_room/apartment-2094734__340.jpg')]\n",
      "[('bed_room', 'dataset/bed_room/apartment-2094734__340.jpg')]\n",
      "[('bed_room', 'dataset/bed_room/apartment-2094734__340.jpg')]\n",
      "[('bed_room', 'dataset/bed_room/apartment-2094734__340.jpg')]\n",
      "[('bed_room', 'dataset/bed_room/apartment-2094734__340.jpg')]\n",
      "[('bed_room', 'dataset/bed_room/apartment-2094734__340.jpg')]\n",
      "[('bed_room', 'dataset/bed_room/apartment-2094734__340.jpg')]\n",
      "[('bed_room', 'dataset/bed_room/apartment-2094734__340.jpg')]\n",
      "[('bed_room', 'dataset/bed_room/apartment-2094734__340.jpg')]\n",
      "[('bed_room', 'dataset/bed_room/apartment-2094734__340.jpg')]\n",
      "[('bed_room', 'dataset/bed_room/apartment-2094734__340.jpg')]\n",
      "[('bed_room', 'dataset/bed_room/apartment-2094734__340.jpg')]\n",
      "[('bed_room', 'dataset/bed_room/apartment-2094734__340.jpg')]\n",
      "[('bed_room', 'dataset/bed_room/apartment-2094734__340.jpg')]\n",
      "[('bed_room', 'dataset/bed_room/apartment-2094734__340.jpg')]\n",
      "[('bed_room', 'dataset/bed_room/apartment-2094734__340.jpg')]\n",
      "[('bed_room', 'dataset/bed_room/apartment-2094734__340.jpg')]\n",
      "[('bed_room', 'dataset/bed_room/apartment-2094734__340.jpg')]\n",
      "[('bed_room', 'dataset/bed_room/apartment-2094734__340.jpg')]\n",
      "[('bed_room', 'dataset/bed_room/apartment-2094734__340.jpg')]\n",
      "[('bed_room', 'dataset/bed_room/apartment-2094734__340.jpg')]\n",
      "[('bed_room', 'dataset/bed_room/apartment-2094734__340.jpg')]\n",
      "[('bed_room', 'dataset/bed_room/apartment-2094734__340.jpg')]\n",
      "[('bed_room', 'dataset/bed_room/apartment-2094734__340.jpg')]\n",
      "[('bed_room', 'dataset/bed_room/apartment-2094734__340.jpg')]\n",
      "[('bed_room', 'dataset/bed_room/apartment-2094734__340.jpg')]\n",
      "[('bed_room', 'dataset/bed_room/apartment-2094734__340.jpg')]\n",
      "[('bed_room', 'dataset/bed_room/apartment-2094734__340.jpg')]\n",
      "[('bed_room', 'dataset/bed_room/apartment-2094734__340.jpg')]\n",
      "[('bed_room', 'dataset/bed_room/apartment-2094734__340.jpg')]\n",
      "[('bed_room', 'dataset/bed_room/apartment-2094734__340.jpg')]\n",
      "[('bed_room', 'dataset/bed_room/apartment-2094734__340.jpg')]\n",
      "[('bed_room', 'dataset/bed_room/apartment-2094734__340.jpg')]\n",
      "[('bed_room', 'dataset/bed_room/apartment-2094734__340.jpg')]\n",
      "[('bed_room', 'dataset/bed_room/apartment-2094734__340.jpg')]\n",
      "[('bed_room', 'dataset/bed_room/apartment-2094734__340.jpg')]\n",
      "[('bed_room', 'dataset/bed_room/apartment-2094734__340.jpg')]\n",
      "[('bed_room', 'dataset/bed_room/apartment-2094734__340.jpg')]\n",
      "[('bed_room', 'dataset/bed_room/apartment-2094734__340.jpg')]\n",
      "[('bed_room', 'dataset/bed_room/apartment-2094734__340.jpg')]\n",
      "[('bed_room', 'dataset/bed_room/apartment-2094734__340.jpg')]\n",
      "[('bed_room', 'dataset/bed_room/apartment-2094734__340.jpg')]\n",
      "[('bed_room', 'dataset/bed_room/apartment-2094734__340.jpg')]\n",
      "[('bed_room', 'dataset/bed_room/apartment-2094734__340.jpg')]\n",
      "[('bed_room', 'dataset/bed_room/apartment-2094734__340.jpg')]\n",
      "[('bed_room', 'dataset/bed_room/apartment-2094734__340.jpg')]\n",
      "[('bed_room', 'dataset/bed_room/apartment-2094734__340.jpg')]\n",
      "[('bed_room', 'dataset/bed_room/apartment-2094734__340.jpg')]\n",
      "[('bed_room', 'dataset/bed_room/apartment-2094734__340.jpg')]\n",
      "[('bed_room', 'dataset/bed_room/apartment-2094734__340.jpg')]\n",
      "[('bed_room', 'dataset/bed_room/apartment-2094734__340.jpg')]\n",
      "[('bed_room', 'dataset/bed_room/apartment-2094734__340.jpg')]\n",
      "[('bed_room', 'dataset/bed_room/apartment-2094734__340.jpg')]\n",
      "[('bed_room', 'dataset/bed_room/apartment-2094734__340.jpg')]\n",
      "[('bed_room', 'dataset/bed_room/apartment-2094734__340.jpg')]\n",
      "[('bed_room', 'dataset/bed_room/apartment-2094734__340.jpg')]\n",
      "[('bed_room', 'dataset/bed_room/apartment-2094734__340.jpg')]\n",
      "[('bed_room', 'dataset/bed_room/apartment-2094734__340.jpg')]\n",
      "[('bed_room', 'dataset/bed_room/apartment-2094734__340.jpg')]\n",
      "[('bed_room', 'dataset/bed_room/apartment-2094734__340.jpg')]\n",
      "[('bed_room', 'dataset/bed_room/apartment-2094734__340.jpg')]\n",
      "[('bed_room', 'dataset/bed_room/apartment-2094734__340.jpg')]\n",
      "[('bed_room', 'dataset/bed_room/apartment-2094734__340.jpg')]\n",
      "[('bed_room', 'dataset/bed_room/apartment-2094734__340.jpg')]\n",
      "[('bed_room', 'dataset/bed_room/apartment-2094734__340.jpg')]\n",
      "[('bed_room', 'dataset/bed_room/apartment-2094734__340.jpg')]\n",
      "[('bed_room', 'dataset/bed_room/apartment-2094734__340.jpg')]\n",
      "[('bed_room', 'dataset/bed_room/apartment-2094734__340.jpg')]\n",
      "[('bed_room', 'dataset/bed_room/apartment-2094734__340.jpg')]\n",
      "[('bed_room', 'dataset/bed_room/apartment-2094734__340.jpg')]\n",
      "[('bed_room', 'dataset/bed_room/apartment-2094734__340.jpg')]\n",
      "[('bed_room', 'dataset/bed_room/apartment-2094734__340.jpg')]\n",
      "[('bed_room', 'dataset/bed_room/apartment-2094734__340.jpg')]\n",
      "[('bed_room', 'dataset/bed_room/apartment-2094734__340.jpg')]\n",
      "[('bed_room', 'dataset/bed_room/apartment-2094734__340.jpg')]\n",
      "[('bed_room', 'dataset/bed_room/apartment-2094734__340.jpg')]\n",
      "[('bed_room', 'dataset/bed_room/apartment-2094734__340.jpg')]\n",
      "[('bed_room', 'dataset/bed_room/apartment-2094734__340.jpg')]\n",
      "[('bed_room', 'dataset/bed_room/apartment-2094734__340.jpg')]\n",
      "[('bed_room', 'dataset/bed_room/apartment-2094734__340.jpg')]\n",
      "[('bed_room', 'dataset/bed_room/apartment-2094734__340.jpg')]\n",
      "[('bed_room', 'dataset/bed_room/apartment-2094734__340.jpg')]\n",
      "[('bed_room', 'dataset/bed_room/apartment-2094734__340.jpg')]\n",
      "[('bed_room', 'dataset/bed_room/apartment-2094734__340.jpg')]\n",
      "[('bed_room', 'dataset/bed_room/apartment-2094734__340.jpg')]\n",
      "[('bed_room', 'dataset/bed_room/apartment-2094734__340.jpg')]\n",
      "[('bed_room', 'dataset/bed_room/apartment-2094734__340.jpg')]\n",
      "[('bed_room', 'dataset/bed_room/apartment-2094734__340.jpg')]\n",
      "[('bed_room', 'dataset/bed_room/apartment-2094734__340.jpg')]\n",
      "[('bed_room', 'dataset/bed_room/apartment-2094734__340.jpg')]\n",
      "[('bed_room', 'dataset/bed_room/apartment-2094734__340.jpg')]\n",
      "[('bed_room', 'dataset/bed_room/apartment-2094734__340.jpg')]\n",
      "[('bed_room', 'dataset/bed_room/apartment-2094734__340.jpg')]\n",
      "[('bed_room', 'dataset/bed_room/apartment-2094734__340.jpg')]\n",
      "[('bed_room', 'dataset/bed_room/apartment-2094734__340.jpg')]\n",
      "[('bed_room', 'dataset/bed_room/apartment-2094734__340.jpg')]\n",
      "[('bed_room', 'dataset/bed_room/apartment-2094734__340.jpg')]\n",
      "[('bed_room', 'dataset/bed_room/apartment-2094734__340.jpg')]\n",
      "[('bed_room', 'dataset/bed_room/apartment-2094734__340.jpg')]\n",
      "[('bed_room', 'dataset/bed_room/apartment-2094734__340.jpg')]\n",
      "[('bed_room', 'dataset/bed_room/apartment-2094734__340.jpg')]\n",
      "[('bed_room', 'dataset/bed_room/apartment-2094734__340.jpg')]\n",
      "[('bed_room', 'dataset/bed_room/apartment-2094734__340.jpg')]\n",
      "[('bed_room', 'dataset/bed_room/apartment-2094734__340.jpg')]\n",
      "[('bed_room', 'dataset/bed_room/apartment-2094734__340.jpg')]\n",
      "[('bed_room', 'dataset/bed_room/apartment-2094734__340.jpg')]\n",
      "[('bed_room', 'dataset/bed_room/apartment-2094734__340.jpg')]\n",
      "[('bed_room', 'dataset/bed_room/apartment-2094734__340.jpg')]\n",
      "[('bed_room', 'dataset/bed_room/apartment-2094734__340.jpg')]\n",
      "[('bed_room', 'dataset/bed_room/apartment-2094734__340.jpg')]\n",
      "[('bed_room', 'dataset/bed_room/apartment-2094734__340.jpg')]\n",
      "[('bed_room', 'dataset/bed_room/apartment-2094734__340.jpg')]\n",
      "[('bed_room', 'dataset/bed_room/apartment-2094734__340.jpg')]\n",
      "[('bed_room', 'dataset/bed_room/apartment-2094734__340.jpg')]\n",
      "[('bed_room', 'dataset/bed_room/apartment-2094734__340.jpg')]\n",
      "[('bed_room', 'dataset/bed_room/apartment-2094734__340.jpg')]\n",
      "[('bed_room', 'dataset/bed_room/apartment-2094734__340.jpg')]\n",
      "[('bed_room', 'dataset/bed_room/apartment-2094734__340.jpg')]\n",
      "[('bed_room', 'dataset/bed_room/apartment-2094734__340.jpg')]\n",
      "[('bed_room', 'dataset/bed_room/apartment-2094734__340.jpg')]\n",
      "[('bed_room', 'dataset/bed_room/apartment-2094734__340.jpg')]\n",
      "[('bed_room', 'dataset/bed_room/apartment-2094734__340.jpg')]\n",
      "[('bed_room', 'dataset/bed_room/apartment-2094734__340.jpg')]\n",
      "[('bed_room', 'dataset/bed_room/apartment-2094734__340.jpg')]\n",
      "[('bed_room', 'dataset/bed_room/apartment-2094734__340.jpg')]\n",
      "[('bed_room', 'dataset/bed_room/apartment-2094734__340.jpg')]\n",
      "[('bed_room', 'dataset/bed_room/apartment-2094734__340.jpg')]\n",
      "[('bed_room', 'dataset/bed_room/apartment-2094734__340.jpg')]\n",
      "[('bed_room', 'dataset/bed_room/apartment-2094734__340.jpg')]\n",
      "[('bed_room', 'dataset/bed_room/apartment-2094734__340.jpg')]\n",
      "[('bed_room', 'dataset/bed_room/apartment-2094734__340.jpg')]\n",
      "[('bed_room', 'dataset/bed_room/apartment-2094734__340.jpg')]\n",
      "[('bed_room', 'dataset/bed_room/apartment-2094734__340.jpg')]\n",
      "[('bed_room', 'dataset/bed_room/apartment-2094734__340.jpg')]\n",
      "[('bed_room', 'dataset/bed_room/apartment-2094734__340.jpg')]\n",
      "[('bed_room', 'dataset/bed_room/apartment-2094734__340.jpg')]\n",
      "[('bed_room', 'dataset/bed_room/apartment-2094734__340.jpg')]\n",
      "[('bed_room', 'dataset/bed_room/apartment-2094734__340.jpg')]\n",
      "[('bed_room', 'dataset/bed_room/apartment-2094734__340.jpg')]\n",
      "[('bed_room', 'dataset/bed_room/apartment-2094734__340.jpg')]\n",
      "[('bed_room', 'dataset/bed_room/apartment-2094734__340.jpg')]\n",
      "[('bed_room', 'dataset/bed_room/apartment-2094734__340.jpg')]\n",
      "[('bed_room', 'dataset/bed_room/apartment-2094734__340.jpg')]\n",
      "[('bed_room', 'dataset/bed_room/apartment-2094734__340.jpg')]\n",
      "[('bed_room', 'dataset/bed_room/apartment-2094734__340.jpg')]\n",
      "[('bed_room', 'dataset/bed_room/apartment-2094734__340.jpg')]\n",
      "[('bed_room', 'dataset/bed_room/apartment-2094734__340.jpg')]\n",
      "[('bed_room', 'dataset/bed_room/apartment-2094734__340.jpg')]\n",
      "[('bed_room', 'dataset/bed_room/apartment-2094734__340.jpg')]\n",
      "[('bed_room', 'dataset/bed_room/apartment-2094734__340.jpg')]\n",
      "[('bed_room', 'dataset/bed_room/apartment-2094734__340.jpg')]\n",
      "[('bed_room', 'dataset/bed_room/apartment-2094734__340.jpg')]\n",
      "[('bed_room', 'dataset/bed_room/apartment-2094734__340.jpg')]\n",
      "[('bed_room', 'dataset/bed_room/apartment-2094734__340.jpg')]\n",
      "[('bed_room', 'dataset/bed_room/apartment-2094734__340.jpg')]\n",
      "[('bed_room', 'dataset/bed_room/apartment-2094734__340.jpg')]\n",
      "[('bed_room', 'dataset/bed_room/apartment-2094734__340.jpg')]\n",
      "[('bed_room', 'dataset/bed_room/apartment-2094734__340.jpg')]\n",
      "[('bed_room', 'dataset/bed_room/apartment-2094734__340.jpg')]\n",
      "[('bed_room', 'dataset/bed_room/apartment-2094734__340.jpg')]\n",
      "[('bed_room', 'dataset/bed_room/apartment-2094734__340.jpg')]\n",
      "[('bed_room', 'dataset/bed_room/apartment-2094734__340.jpg')]\n",
      "[('bed_room', 'dataset/bed_room/apartment-2094734__340.jpg')]\n",
      "[('bed_room', 'dataset/bed_room/apartment-2094734__340.jpg')]\n",
      "[('bed_room', 'dataset/bed_room/apartment-2094734__340.jpg')]\n",
      "[('bed_room', 'dataset/bed_room/apartment-2094734__340.jpg')]\n",
      "[('bed_room', 'dataset/bed_room/apartment-2094734__340.jpg')]\n",
      "[('bed_room', 'dataset/bed_room/apartment-2094734__340.jpg')]\n",
      "[('bed_room', 'dataset/bed_room/apartment-2094734__340.jpg')]\n",
      "[('bed_room', 'dataset/bed_room/apartment-2094734__340.jpg')]\n",
      "[('bed_room', 'dataset/bed_room/apartment-2094734__340.jpg')]\n",
      "[('bed_room', 'dataset/bed_room/apartment-2094734__340.jpg')]\n"
     ]
    }
   ],
   "source": [
    "rooms = []\n",
    "\n",
    "for item in room_types:\n",
    " # Get all the file names\n",
    " all_rooms = os.listdir('dataset' + '/' +item)\n",
    " #print(all_shoes)\n",
    "\n",
    " # Add them to the list\n",
    " for room in all_rooms:\n",
    "    rooms.append((item, str('dataset' + '/' +item) + '/' + room))\n",
    "    print(rooms[:1])\n"
   ]
  },
  {
   "cell_type": "code",
   "execution_count": 283,
   "metadata": {},
   "outputs": [
    {
     "name": "stdout",
     "output_type": "stream",
     "text": [
      "  room type                                              image\n",
      "0  bed_room        dataset/bed_room/apartment-2094734__340.jpg\n",
      "1  bed_room        dataset/bed_room/apartment-4744139__340.jpg\n",
      "2  bed_room     dataset/bed_room/architecture-2141065__340.jpg\n",
      "3  bed_room  dataset/bed_room/architecture-modern-house-bea...\n",
      "4  bed_room             dataset/bed_room/baby-1266117__340.jpg\n",
      "       room type                                             image\n",
      "388  living_room  dataset/living_room/victoria-borodinova-706.jpeg\n",
      "389  living_room          dataset/living_room/wall-823611__340.jpg\n",
      "390  living_room        dataset/living_room/woman-2099465__340.jpg\n",
      "391  living_room         dataset/living_room/young-510440__340.jpg\n",
      "392  living_room         dataset/living_room/young-510453__340.jpg\n"
     ]
    }
   ],
   "source": [
    "# Build a dataframe        \n",
    "rooms_df = pd.DataFrame(data=rooms, columns=['room type', 'image'])\n",
    "print(rooms_df.head())\n",
    "print(rooms_df.tail())"
   ]
  },
  {
   "cell_type": "code",
   "execution_count": 284,
   "metadata": {},
   "outputs": [
    {
     "name": "stdout",
     "output_type": "stream",
     "text": [
      "Total number of rooms in the dataset:  393\n"
     ]
    }
   ],
   "source": [
    "# Let's check how many samples for each category are present\n",
    "print(\"Total number of rooms in the dataset: \", len(rooms_df))"
   ]
  },
  {
   "cell_type": "code",
   "execution_count": 285,
   "metadata": {},
   "outputs": [
    {
     "name": "stdout",
     "output_type": "stream",
     "text": [
      "rooms in each category: \n",
      "bed_room       159\n",
      "living_room    148\n",
      "dining_room     86\n",
      "Name: room type, dtype: int64\n"
     ]
    }
   ],
   "source": [
    "room_count = rooms_df['room type'].value_counts()\n",
    "\n",
    "print(\"rooms in each category: \")\n",
    "print(room_count)"
   ]
  },
  {
   "cell_type": "code",
   "execution_count": 286,
   "metadata": {},
   "outputs": [],
   "source": [
    "import cv2\n",
    "path = 'dataset/'\n",
    "\n",
    "\n",
    "im_size = 60\n",
    "\n",
    "images = []\n",
    "labels = []\n",
    "\n",
    "for i in room_types:\n",
    "    data_path = path + str(i)  # entered in 1st folder and then 2nd folder and then 3rd folder\n",
    "    #filenames = [i for i in os.listdir(data_path) if i.endswith('.jpg')]\n",
    "    filenames = [i for i in os.listdir(data_path) ]\n",
    "   # print(filenames)  # will get the names of all images which ends with .jpg extension\n",
    "    for f in filenames:\n",
    "        img = cv2.imread(data_path + '/' + f)  # reading that image as array\n",
    "        #print(img)  # will get the image as an array\n",
    "        img = cv2.resize(img, (im_size, im_size))\n",
    "        images.append(img)\n",
    "        labels.append(i)"
   ]
  },
  {
   "cell_type": "code",
   "execution_count": 287,
   "metadata": {},
   "outputs": [
    {
     "data": {
      "text/plain": [
       "(393, 60, 60, 3)"
      ]
     },
     "execution_count": 287,
     "metadata": {},
     "output_type": "execute_result"
    }
   ],
   "source": [
    "# Transform the image array to a numpy type\n",
    "\n",
    "images = np.array(images)\n",
    "\n",
    "images.shape"
   ]
  },
  {
   "cell_type": "code",
   "execution_count": 288,
   "metadata": {},
   "outputs": [],
   "source": [
    "images = images.astype('float32') / 255.0"
   ]
  },
  {
   "cell_type": "code",
   "execution_count": 289,
   "metadata": {},
   "outputs": [
    {
     "data": {
      "text/plain": [
       "(393, 60, 60, 3)"
      ]
     },
     "execution_count": 289,
     "metadata": {},
     "output_type": "execute_result"
    }
   ],
   "source": [
    "images.shape"
   ]
  },
  {
   "cell_type": "code",
   "execution_count": 290,
   "metadata": {},
   "outputs": [
    {
     "name": "stdout",
     "output_type": "stream",
     "text": [
      "['bed_room' 'bed_room' 'bed_room' 'bed_room' 'bed_room']\n"
     ]
    }
   ],
   "source": [
    "from sklearn.preprocessing import LabelEncoder , OneHotEncoder\n",
    "\n",
    "\n",
    "y=rooms_df['room type'].values\n",
    "print(y[:5])"
   ]
  },
  {
   "cell_type": "code",
   "execution_count": 291,
   "metadata": {},
   "outputs": [
    {
     "name": "stdout",
     "output_type": "stream",
     "text": [
      "[0 0 0 0 0 0 0 0 0 0 0 0 0 0 0 0 0 0 0 0 0 0 0 0 0 0 0 0 0 0 0 0 0 0 0 0 0\n",
      " 0 0 0 0 0 0 0 0 0 0 0 0 0 0 0 0 0 0 0 0 0 0 0 0 0 0 0 0 0 0 0 0 0 0 0 0 0\n",
      " 0 0 0 0 0 0 0 0 0 0 0 0 0 0 0 0 0 0 0 0 0 0 0 0 0 0 0 0 0 0 0 0 0 0 0 0 0\n",
      " 0 0 0 0 0 0 0 0 0 0 0 0 0 0 0 0 0 0 0 0 0 0 0 0 0 0 0 0 0 0 0 0 0 0 0 0 0\n",
      " 0 0 0 0 0 0 0 0 0 0 0 1 1 1 1 1 1 1 1 1 1 1 1 1 1 1 1 1 1 1 1 1 1 1 1 1 1\n",
      " 1 1 1 1 1 1 1 1 1 1 1 1 1 1 1 1 1 1 1 1 1 1 1 1 1 1 1 1 1 1 1 1 1 1 1 1 1\n",
      " 1 1 1 1 1 1 1 1 1 1 1 1 1 1 1 1 1 1 1 1 1 1 1 2 2 2 2 2 2 2 2 2 2 2 2 2 2\n",
      " 2 2 2 2 2 2 2 2 2 2 2 2 2 2 2 2 2 2 2 2 2 2 2 2 2 2 2 2 2 2 2 2 2 2 2 2 2\n",
      " 2 2 2 2 2 2 2 2 2 2 2 2 2 2 2 2 2 2 2 2 2 2 2 2 2 2 2 2 2 2 2 2 2 2 2 2 2\n",
      " 2 2 2 2 2 2 2 2 2 2 2 2 2 2 2 2 2 2 2 2 2 2 2 2 2 2 2 2 2 2 2 2 2 2 2 2 2\n",
      " 2 2 2 2 2 2 2 2 2 2 2 2 2 2 2 2 2 2 2 2 2 2 2]\n"
     ]
    }
   ],
   "source": [
    "# for y\n",
    "y_labelencoder = LabelEncoder ()\n",
    "y = y_labelencoder.fit_transform (y)\n",
    "print (y)"
   ]
  },
  {
   "cell_type": "code",
   "execution_count": 292,
   "metadata": {},
   "outputs": [
    {
     "name": "stderr",
     "output_type": "stream",
     "text": [
      "c:\\users\\aarohi\\appdata\\local\\programs\\python\\python37\\lib\\site-packages\\sklearn\\preprocessing\\_encoders.py:371: FutureWarning: The handling of integer data will change in version 0.22. Currently, the categories are determined based on the range [0, max(values)], while in the future they will be determined based on the unique values.\n",
      "If you want the future behaviour and silence this warning, you can specify \"categories='auto'\".\n",
      "In case you used a LabelEncoder before this OneHotEncoder to convert the categories to integers, then you can now use the OneHotEncoder directly.\n",
      "  warnings.warn(msg, FutureWarning)\n",
      "c:\\users\\aarohi\\appdata\\local\\programs\\python\\python37\\lib\\site-packages\\sklearn\\preprocessing\\_encoders.py:392: DeprecationWarning: The 'categorical_features' keyword is deprecated in version 0.20 and will be removed in 0.22. You can use the ColumnTransformer instead.\n",
      "  \"use the ColumnTransformer instead.\", DeprecationWarning)\n"
     ]
    },
    {
     "data": {
      "text/plain": [
       "(393, 3)"
      ]
     },
     "execution_count": 292,
     "metadata": {},
     "output_type": "execute_result"
    }
   ],
   "source": [
    "y=y.reshape(-1,1)\n",
    "onehotencoder = OneHotEncoder(categorical_features=[0])  #Converted  scalar output into vector output where the correct class will be 1 and other will be 0\n",
    "Y= onehotencoder.fit_transform(y)\n",
    "Y.shape  #(393, 3)"
   ]
  },
  {
   "cell_type": "code",
   "execution_count": 293,
   "metadata": {},
   "outputs": [
    {
     "name": "stdout",
     "output_type": "stream",
     "text": [
      "(373, 60, 60, 3)\n",
      "(373, 3)\n",
      "(20, 60, 60, 3)\n",
      "(20, 3)\n"
     ]
    }
   ],
   "source": [
    "\n",
    "from sklearn.utils import shuffle\n",
    "from sklearn.model_selection import train_test_split\n",
    "\n",
    "\n",
    "images, Y = shuffle(images, Y, random_state=1)\n",
    "\n",
    "train_x, test_x, train_y, test_y = train_test_split(images, Y, test_size=0.05, random_state=415)\n",
    "\n",
    "#inpect the shape of the training and testing.\n",
    "print(train_x.shape)\n",
    "print(train_y.shape)\n",
    "print(test_x.shape)\n",
    "print(test_y.shape)"
   ]
  },
  {
   "cell_type": "code",
   "execution_count": 294,
   "metadata": {},
   "outputs": [],
   "source": [
    "#train_x=np.reshape(train_x,(373,10800))\n",
    "#print(train_x.shape)\n",
    "\n",
    "#test_x=np.reshape(test_x,(20,10800))\n",
    "#test_x.shape\n",
    "\n"
   ]
  },
  {
   "cell_type": "code",
   "execution_count": 295,
   "metadata": {},
   "outputs": [],
   "source": [
    "import tensorflow as tf\n",
    "# Number of classes, one class for each of 5 flower.\n",
    "num_classes = 3\n",
    "\n",
    "# flattened imge\n",
    "n_input = 10800\n",
    "\n",
    "\n",
    "# architecture hyper-parameter\n",
    "learning_rate = 0.001\n",
    "training_iters = 10\n",
    "batch_size = 16\n",
    "display_step = 20"
   ]
  },
  {
   "cell_type": "code",
   "execution_count": 296,
   "metadata": {},
   "outputs": [
    {
     "name": "stdout",
     "output_type": "stream",
     "text": [
      "Shape of placeholder (?, 60, 60, 3) (393, 1)\n"
     ]
    }
   ],
   "source": [
    "img_size=60\n",
    "num_channels=3\n",
    "#x = tf.placeholder(tf.float32, [None, n_input])\n",
    "x = tf.placeholder(tf.float32, shape=[None, img_size,img_size,num_channels])\n",
    "\n",
    "y_ = tf.placeholder(tf.float32, [None, num_classes])\n",
    "\n",
    "\n",
    "\n",
    "print('Shape of placeholder',x.shape, y.shape)\n"
   ]
  },
  {
   "cell_type": "code",
   "execution_count": 297,
   "metadata": {},
   "outputs": [],
   "source": [
    "# optional use- if you want to add bias in conv layer then use this function by calling it in conv_net model\n",
    "def conv2d(x, W, b, strides=1):\n",
    "    x = tf.nn.conv2d(x, W, strides=[1, strides, strides, 1], padding='SAME')\n",
    "    x = tf.nn.bias_add(x, b)\n",
    "    return tf.nn.relu(x)\n",
    "\n",
    "\n",
    "\n",
    "\n",
    "def maxpool2d(x, k=2):\n",
    "    return tf.nn.max_pool(x, ksize=[1, k, k, 1], strides=[1, k, k, 1], padding='SAME')\n"
   ]
  },
  {
   "cell_type": "code",
   "execution_count": 298,
   "metadata": {},
   "outputs": [],
   "source": [
    "weights = {\n",
    "    'w1': tf.Variable(tf.random_normal([5, 5, 3, 32]),name='w1'),\n",
    "    'w2': tf.Variable(tf.random_normal([5, 5, 32, 64]),name='w2'),\n",
    "    'w3': tf.Variable(tf.random_normal([5, 5, 64, 128]),name='w3'),\n",
    "    'wd1': tf.Variable(tf.random_normal([8 * 8 * 128, 2048]),name='wd1'),  \n",
    "    'wout': tf.Variable(tf.random_normal([2048, num_classes]),name='wout')\n",
    "}\n",
    "\n",
    "biases = {\n",
    "    'b1': tf.Variable(tf.random_normal([32]),name='b1'),\n",
    "    'b2': tf.Variable(tf.random_normal([64]),name='b2'),\n",
    "    'b3': tf.Variable(tf.random_normal([128]),name='b3'),\n",
    "    'bd1': tf.Variable(tf.random_normal([2048]),name='bd1'),\n",
    "    'bout': tf.Variable(tf.random_normal([num_classes]),name='bout')\n",
    "}"
   ]
  },
  {
   "cell_type": "code",
   "execution_count": 299,
   "metadata": {},
   "outputs": [],
   "source": [
    "def conv_net(x, weights, biases):\n",
    "        \n",
    "    # reshape input to 60x60x3 size\n",
    "    x = tf.reshape(x, shape=[-1, 60, 60, 3])  \n",
    "    \n",
    "    print(\"###########################################################################\")\n",
    "    print(\"size of x is\")\n",
    "    print(x.shape)\n",
    "    \n",
    "  \n",
    "    conv1 = conv2d(x, weights['w1'], biases['b1'])\n",
    "    conv1 = maxpool2d(conv1, k=2)\n",
    "    print(\"###########################################################################\")\n",
    "    print(\"size after 1st conv layer is \")\n",
    "    print(conv1.shape)\n",
    "\n",
    "    \n",
    "    #input is 30*30*32 image\n",
    "    # Convolution Layer\n",
    "    conv2 = conv2d(conv1, weights['w2'], biases['b2'])\n",
    "    conv2 = maxpool2d(conv2, k=2)\n",
    "    print(\"###########################################################################\")\n",
    "    print(\"size after 2nd conv and pooling layer is\")\n",
    "    print(conv2.shape)\n",
    "    \n",
    "    \n",
    "    ### third conv layer\n",
    "    # input is 15*15*64 image\n",
    "    # Convolution Layer\n",
    "    conv3 = conv2d(conv2, weights['w3'], biases['b3'])\n",
    "  \n",
    "    conv3 = maxpool2d(conv3, k=2)\n",
    "    print(\"###########################################################################\")\n",
    "    print(\"size after 3rd conv and pooling layer is\")\n",
    "    print(conv3.shape)\n",
    "    \n",
    "    \n",
    "    \n",
    "    #input is 8*8*128 \n",
    "\n",
    "    # Fully connected layer\n",
    "    # Reshape conv3 output to fit fully connected layer input   = 8*8*128 = 8192\n",
    "    fc1 = tf.reshape(conv3, [-1, weights['wd1'].get_shape().as_list()[0]])\n",
    "    print(\"###########################################################################\")\n",
    "    print(\"shape after flattening the image\")\n",
    "    print(fc1)  #8192 is the output\n",
    "    \n",
    "    \n",
    "    fc1 = tf.add(tf.matmul(fc1, weights['wd1']), biases['bd1'])\n",
    "    fc1 = tf.nn.relu(fc1)\n",
    "    print(\"###########################################################################\")\n",
    "    print(\"shape after fully connected layer\")\n",
    "    print(fc1)\n",
    "    \n",
    "    \n",
    "    # Output, class prediction\n",
    "    # finally we multiply the fully connected layer with the weights and add a bias term. \n",
    "    out = tf.add(tf.matmul(fc1, weights['wout']), biases['bout'])\n",
    "    print(\"###########################################################################\")\n",
    "    print(\"Output layer\")\n",
    "    return out"
   ]
  },
  {
   "cell_type": "code",
   "execution_count": 300,
   "metadata": {},
   "outputs": [
    {
     "name": "stdout",
     "output_type": "stream",
     "text": [
      "###########################################################################\n",
      "size of x is\n",
      "(?, 60, 60, 3)\n",
      "###########################################################################\n",
      "size after 1st conv layer is \n",
      "(?, 30, 30, 32)\n",
      "###########################################################################\n",
      "size after 2nd conv and pooling layer is\n",
      "(?, 15, 15, 64)\n",
      "###########################################################################\n",
      "size after 3rd conv and pooling layer is\n",
      "(?, 8, 8, 128)\n",
      "###########################################################################\n",
      "shape after flattening the image\n",
      "Tensor(\"Reshape_34:0\", shape=(?, 8192), dtype=float32)\n",
      "###########################################################################\n",
      "shape after fully connected layer\n",
      "Tensor(\"Relu_62:0\", shape=(?, 2048), dtype=float32)\n",
      "###########################################################################\n",
      "Output layer\n",
      "Tensor(\"Add_29:0\", shape=(?, 3), dtype=float32)\n"
     ]
    }
   ],
   "source": [
    "# Create the model\n",
    "model = conv_net(x, weights, biases)\n",
    "print(model)"
   ]
  },
  {
   "cell_type": "code",
   "execution_count": 301,
   "metadata": {},
   "outputs": [],
   "source": [
    "# Define loss and optimizer\n",
    "cost = tf.reduce_mean(tf.nn.softmax_cross_entropy_with_logits(logits=model, labels=y_))\n",
    "optimizer = tf.train.AdamOptimizer(learning_rate=learning_rate).minimize(cost)\n"
   ]
  },
  {
   "cell_type": "code",
   "execution_count": 302,
   "metadata": {},
   "outputs": [],
   "source": [
    "# Initializing the variables\n",
    "init = tf.global_variables_initializer()"
   ]
  },
  {
   "cell_type": "code",
   "execution_count": 303,
   "metadata": {},
   "outputs": [
    {
     "name": "stdout",
     "output_type": "stream",
     "text": [
      "epoch :  0  -  cost:  4854884.5\n",
      "epoch :  1  -  cost:  5985003.5\n",
      "epoch :  2  -  cost:  5473353.0\n",
      "epoch :  3  -  cost:  4190941.0\n",
      "epoch :  4  -  cost:  2057479.4\n",
      "epoch :  5  -  cost:  2098886.0\n",
      "epoch :  6  -  cost:  3235674.2\n",
      "epoch :  7  -  cost:  2382823.8\n",
      "epoch :  8  -  cost:  1824150.6\n",
      "epoch :  9  -  cost:  1873462.0\n"
     ]
    }
   ],
   "source": [
    "cost_history=[]\n",
    "n_epochs =10\n",
    "# the execution\n",
    "sess = tf.Session()\n",
    "sess.run(init)\n",
    "\n",
    "train_y=train_y.todense()\n",
    "\n",
    "for i in range(n_epochs):\n",
    "    a, c = sess.run([optimizer, cost], feed_dict={x: train_x, y_: train_y})  #working\n",
    "    cost_history = np.append(cost_history,c)  # working\n",
    "    print('epoch : ', i,  ' - ', 'cost: ', c) #working \n"
   ]
  },
  {
   "cell_type": "code",
   "execution_count": 304,
   "metadata": {},
   "outputs": [
    {
     "name": "stdout",
     "output_type": "stream",
     "text": [
      "Accuracy:  0.35\n"
     ]
    }
   ],
   "source": [
    "\n",
    "\n",
    "test_y=test_y.todense()  #working solution of ValueError: setting an array element with a sequence.\n",
    "#print(test_y)\n",
    "\n",
    "\n",
    "# toarray returns an ndarray; todense returns a matrix. If you want a matrix, use todense; otherwise, use toarray.\n",
    "\n",
    "\n",
    "correct_prediction = tf.equal(tf.argmax(model,1), tf.argmax(y_,1))   \n",
    "correct_prediction \n",
    "\n",
    "accuracy = tf.reduce_mean(tf.cast(correct_prediction, tf.float32))\n",
    "accuracy\n",
    "\n",
    "\n",
    "# retrun the accuracy on the test set.\n",
    "print(\"Accuracy: \", sess.run(accuracy, feed_dict={x: test_x, y_:test_y}))"
   ]
  },
  {
   "cell_type": "code",
   "execution_count": null,
   "metadata": {},
   "outputs": [],
   "source": []
  }
 ],
 "metadata": {
  "kernelspec": {
   "display_name": "Python 3 (ipykernel)",
   "language": "python",
   "name": "python3"
  },
  "language_info": {
   "codemirror_mode": {
    "name": "ipython",
    "version": 3
   },
   "file_extension": ".py",
   "mimetype": "text/x-python",
   "name": "python",
   "nbconvert_exporter": "python",
   "pygments_lexer": "ipython3",
   "version": "3.7.6"
  }
 },
 "nbformat": 4,
 "nbformat_minor": 2
}
